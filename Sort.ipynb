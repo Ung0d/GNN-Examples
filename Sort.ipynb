{
 "cells": [
  {
   "cell_type": "markdown",
   "id": "reliable-sunglasses",
   "metadata": {},
   "source": [
    "## Sort a list using a neural network\n",
    "\n",
    "Input: A list of numbers.\n",
    "\n",
    "Output: A sorted list of the same numbers.\n",
    "\n",
    "Treat the list as a fully connected directed graph where each node represents a number.\n",
    "Use binary labels on the edges to encode a sorting path from the smallest to the largest number, i.e. the network should predict a starting node and the links to the next elements in a sorted linked list.\n",
    "\n",
    "Note: Predicting the starting node is actually trivial. It is simply the smallest input number."
   ]
  },
  {
   "cell_type": "code",
   "execution_count": 1,
   "id": "assigned-quantity",
   "metadata": {},
   "outputs": [],
   "source": [
    "import numpy as np\n",
    "import tensorflow as tf\n",
    "from tensorflow import keras\n",
    "from tensorflow.keras import layers\n",
    "import matplotlib.pyplot as plt"
   ]
  },
  {
   "cell_type": "markdown",
   "id": "biblical-planning",
   "metadata": {},
   "source": [
    "We use a $n \\times n$ matrix to indicate the successor for each of the $n$ nodes in the sorted list. "
   ]
  },
  {
   "cell_type": "code",
   "execution_count": 142,
   "id": "computational-robin",
   "metadata": {},
   "outputs": [
    {
     "name": "stdout",
     "output_type": "stream",
     "text": [
      "numbers to sort: {'nodes': array([0.74888329, 0.62050315, 0.09920943, 0.26082392, 0.38026011,\n",
      "       0.90783717, 0.85810742])}\n",
      "next: {'start_node': array([0., 0., 1., 0., 0., 0., 0.]), 'next_nodes': array([[0., 0., 0., 0., 0., 0., 1.],\n",
      "       [1., 0., 0., 0., 0., 0., 0.],\n",
      "       [0., 0., 0., 1., 0., 0., 0.],\n",
      "       [0., 0., 0., 0., 1., 0., 0.],\n",
      "       [0., 1., 0., 0., 0., 0., 0.],\n",
      "       [0., 0., 0., 0., 0., 0., 0.],\n",
      "       [0., 0., 0., 0., 0., 1., 0.]])}\n",
      "sort indices: [2 3 4 1 0 6 5]\n"
     ]
    }
   ],
   "source": [
    "def make_example(min_max):\n",
    "    num_elements = np.random.randint(min_max[0], min_max[1])\n",
    "    values = np.random.rand(num_elements)\n",
    "    sort_indices = np.argsort(values, axis=-1)\n",
    "    smallest = np.eye(num_elements)[sort_indices[0]]\n",
    "    links = np.zeros((num_elements, num_elements))\n",
    "    links[sort_indices[:-1], sort_indices[1:]] = 1\n",
    "    #links[sort_indices[-1], sort_indices[0]] = 1\n",
    "    input_graph = {\"nodes\" : values}\n",
    "    target_graph = {\"start_node\" : smallest,\n",
    "                   \"next_nodes\" : links}\n",
    "        \n",
    "    return input_graph, target_graph, sort_indices\n",
    "\n",
    "input_graph, target_graph, sort_indices = make_example((7,8))\n",
    "print(\"numbers to sort:\",input_graph)\n",
    "print(\"next:\",target_graph)\n",
    "print(\"sort indices:\",sort_indices)"
   ]
  },
  {
   "cell_type": "code",
   "execution_count": 143,
   "id": "alternative-robert",
   "metadata": {},
   "outputs": [
    {
     "data": {
      "image/png": "[encoded data removed]",
      "text/plain": [
       "<Figure size 288x288 with 1 Axes>"
      ]
     },
     "metadata": {
      "needs_background": "light"
     },
     "output_type": "display_data"
    }
   ],
   "source": [
    "def plot_numbers(ax, next_nodes, sort_indices):\n",
    "    ax.matshow(next_nodes[sort_indices][:, sort_indices], cmap=\"viridis\")\n",
    "    ax.grid(False)\n",
    "    \n",
    "fig = plt.figure(1, figsize=(4, 4))\n",
    "ax = fig.add_subplot()\n",
    "plot_numbers(ax, target_graph[\"next_nodes\"], sort_indices)"
   ]
  },
  {
   "cell_type": "code",
   "execution_count": 178,
   "id": "coordinate-liability",
   "metadata": {},
   "outputs": [],
   "source": [
    "NUM_NODES_TRAIN = (10,15)\n",
    "NUM_NODES_VAL = (100,130)\n",
    "\n",
    "class SampleGenerator(keras.utils.Sequence):\n",
    "\n",
    "    def __init__(self, num_minmax, epoch_len):\n",
    "        self.num_minmax = num_minmax\n",
    "        self.epoch_len = epoch_len\n",
    "\n",
    "    def __len__(self):\n",
    "        return self.epoch_len #number of gradient descent steps per epoch\n",
    "\n",
    "    def __getitem__(self, _index):\n",
    "        inp, tar, _ = make_example(self.num_minmax)\n",
    "        return inp, tar"
   ]
  },
  {
   "cell_type": "markdown",
   "id": "advanced-national",
   "metadata": {},
   "source": [
    "Define a model. We only have node inputs which are the numbers to sort. For each node, we want to predict the probability of being the \"start\" node (i.e. the node with the smallest number). For each edge we want to predict successor in a sorted linked list. We use a very simple GNN with only node states. Edge predictions are done on pairs of node states. \n",
    "\n",
    "We don't use global attributes for in- and output."
   ]
  },
  {
   "cell_type": "code",
   "execution_count": 201,
   "id": "compressed-marshall",
   "metadata": {},
   "outputs": [],
   "source": [
    "#a feedforward layer\n",
    "def make_ff_layer(config):\n",
    "    return keras.Sequential([\n",
    "            layers.Dense(config[\"latent_dim\"], activation=\"relu\"),\n",
    "            layers.Dense(config[\"latent_dim\"]),\n",
    "            layers.LayerNormalization()])\n",
    "\n",
    "def make_GNN(config):\n",
    "    \n",
    "    #define the inputs\n",
    "    #note: keras inputs have their batch size omitted in \"shape\"\n",
    "    V = keras.Input(shape=(1), name=\"nodes\") \n",
    "    \n",
    "    n = tf.shape(V)[0]\n",
    "    \n",
    "    #layers\n",
    "    node_encoder = make_ff_layer(config)\n",
    "    node_messager = make_ff_layer(config)\n",
    "    node_updater = make_ff_layer(config)\n",
    "    node_decoder = layers.Dense(1)\n",
    "    edge_decoder = keras.Sequential([\n",
    "            layers.Dense(config[\"latent_dim\"], activation=\"relu\"),\n",
    "            layers.Dense(1)])\n",
    "    \n",
    "    #step 1: encode\n",
    "    #transform each node (dim=3) and edge (dim=1) to a latent embedding of \"latent_dim\"\n",
    "    V_enc = node_encoder(V)\n",
    "    \n",
    "    start_node = []\n",
    "    next_nodes = []\n",
    "    \n",
    "    #step 2: message passing\n",
    "    for _ in range(config[\"message_passing_iterations\"]):\n",
    "        \n",
    "        #the graph is fully connected, i.e. each node sends \n",
    "        #to all other nodes except itself \n",
    "        V_message = node_messager(V_enc)\n",
    "        V_message = (tf.reduce_sum(V_message, axis=0, keepdims=True) - V_message) \n",
    "        V_message /= tf.cast(n-1, dtype=V_message.dtype)\n",
    "        \n",
    "        #update all nodes based on current state and aggregated edge states\n",
    "        V_concat = tf.concat([V_enc, V_message], axis=-1)\n",
    "        V_enc = node_updater(V_concat)\n",
    "        \n",
    "        #decoding (after each iteration to evaluate performance over time)\n",
    "        #for this GNN, we need node and edge predictions\n",
    "        #for nodes, use the refined embeddings from message passing above:\n",
    "        start_node_probs = node_decoder(V_enc)\n",
    "        #remove \"1\" dimensions\n",
    "        start_node_probs = tf.squeeze(start_node_probs)\n",
    "        #decide for one start node\n",
    "        start_node_probs = tf.nn.softmax(start_node_probs) \n",
    "\n",
    "        #for edges, use the respective pair of node embeddings (we did not use explicit edge embeddings)\n",
    "        #organize edges as follows:\n",
    "        #<n edges from v_1>, <n edges from v_2>, ..., <n edges from v_n>\n",
    "        #we do not exclude self loops for simplicity\n",
    "        V_tile = tf.tile(V_enc, [n,1]) #abc -> (abc abc ... abc) \n",
    "        V_rep = tf.repeat(V_enc, tf.ones(n,dtype=tf.int32)*n, axis=0) #abc -> (aa..a  bb..b  cc..c) \n",
    "        next_node_probs = edge_decoder(tf.concat([V_tile, V_rep], axis=-1))\n",
    "        next_node_probs = tf.reshape(next_node_probs, (n,n))\n",
    "        #for each node, decide for one \"next\" node\n",
    "        next_node_probs = tf.nn.softmax(next_node_probs)\n",
    "\n",
    "        #manually set diagonals to 0 (exclude self loops) and rescale\n",
    "        next_node_probs -= tf.linalg.diag(tf.linalg.diag_part(next_node_probs))\n",
    "        next_node_probs /= tf.reduce_sum(next_node_probs, axis=-1, keepdims=True)\n",
    "        \n",
    "        start_node.append(start_node_probs)\n",
    "        next_nodes.append(next_node_probs)\n",
    "        \n",
    "    outputs = []\n",
    "    outputs.append(layers.Lambda(lambda x: x, name=\"start_node\")(tf.stack(start_node)))\n",
    "    outputs.append(layers.Lambda(lambda x: x, name=\"next_nodes\")(tf.stack(next_nodes)))\n",
    "    \n",
    "    model = keras.Model(inputs=[V], \n",
    "                        outputs=outputs)\n",
    "\n",
    "    return model    "
   ]
  },
  {
   "cell_type": "code",
   "execution_count": 202,
   "id": "ordinary-conference",
   "metadata": {},
   "outputs": [
    {
     "name": "stdout",
     "output_type": "stream",
     "text": [
      "Epoch 1/5\n",
      "1000/1000 [==============================] - 8s 8ms/step - loss: 1.5224 - start_node_loss: 0.4239 - next_nodes_loss: 1.0985 - start_node_acc_first: 0.9297 - next_nodes_acc_next: 0.3774 - val_loss: 4.1235 - val_start_node_loss: 1.0257 - val_next_nodes_loss: 3.0978 - val_start_node_acc_first: 0.9756 - val_next_nodes_acc_next: 0.4806\n",
      "Epoch 2/5\n",
      "1000/1000 [==============================] - 7s 7ms/step - loss: 0.6011 - start_node_loss: 0.0712 - next_nodes_loss: 0.5299 - start_node_acc_first: 0.9831 - next_nodes_acc_next: 0.4928 - val_loss: 4.5540 - val_start_node_loss: 1.1510 - val_next_nodes_loss: 3.4030 - val_start_node_acc_first: 0.9875 - val_next_nodes_acc_next: 0.5136\n",
      "Epoch 3/5\n",
      "1000/1000 [==============================] - 7s 7ms/step - loss: 0.5005 - start_node_loss: 0.0668 - next_nodes_loss: 0.4337 - start_node_acc_first: 0.9897 - next_nodes_acc_next: 0.5225 - val_loss: 4.5930 - val_start_node_loss: 0.8125 - val_next_nodes_loss: 3.7805 - val_start_node_acc_first: 0.9914 - val_next_nodes_acc_next: 0.5326\n",
      "Epoch 4/5\n",
      "1000/1000 [==============================] - 7s 7ms/step - loss: 0.4182 - start_node_loss: 0.0400 - next_nodes_loss: 0.3782 - start_node_acc_first: 0.9924 - next_nodes_acc_next: 0.5389 - val_loss: 3.9321 - val_start_node_loss: 0.9506 - val_next_nodes_loss: 2.9815 - val_start_node_acc_first: 0.9929 - val_next_nodes_acc_next: 0.5502\n",
      "Epoch 5/5\n",
      "1000/1000 [==============================] - 7s 7ms/step - loss: 0.4247 - start_node_loss: 0.0548 - next_nodes_loss: 0.3699 - start_node_acc_first: 0.9933 - next_nodes_acc_next: 0.5576 - val_loss: 3.0862 - val_start_node_loss: 0.5475 - val_next_nodes_loss: 2.5387 - val_start_node_acc_first: 0.9937 - val_next_nodes_acc_next: 0.5695\n"
     ]
    }
   ],
   "source": [
    "config = {\n",
    "    \"message_passing_iterations\" : 5,\n",
    "    \"latent_dim\" : 16\n",
    "}\n",
    "\n",
    "NUM_EPOCHS = 5\n",
    "\n",
    "train_gen = SampleGenerator(NUM_NODES_TRAIN, 1000)\n",
    "val_gen = SampleGenerator(NUM_NODES_VAL, 50)\n",
    "\n",
    "GNN = make_GNN(config)\n",
    "\n",
    "cee = tf.keras.losses.CategoricalCrossentropy()\n",
    "acc_first_ = tf.keras.metrics.CategoricalAccuracy()\n",
    "acc_next_ = tf.keras.metrics.CategoricalAccuracy()\n",
    "\n",
    "def cee_last_iteration(y_true, y_pred):\n",
    "    #loss = 0\n",
    "    #for i in range(config[\"message_passing_iterations\"]):\n",
    "   #     loss += cee(y_true, y_pred[i]) #compute loss for all iterations\n",
    "    #return loss / config[\"message_passing_iterations\"]\n",
    "    return cee(y_true, y_pred[-1])\n",
    "\n",
    "def acc_first(y_true, y_pred):\n",
    "    return acc_first_(y_true, y_pred[-1])\n",
    "\n",
    "def acc_next(y_true, y_pred):\n",
    "    return acc_next_(y_true, y_pred[-1])\n",
    "\n",
    "GNN.compile(loss= {\"start_node\" : cee_last_iteration,\n",
    "                \"next_nodes\" : cee_last_iteration}, \n",
    "            optimizer=optimizer, \n",
    "            metrics={\"start_node\" : acc_first,\n",
    "                \"next_nodes\" : acc_next})\n",
    "\n",
    "optimizer = tf.keras.optimizers.Adam(learning_rate = 1e-3)\n",
    "\n",
    "#takes ~2min on GPU\n",
    "#note that this is unneccessarily long since we don't use batching\n",
    "#to keep the code simple\n",
    "history = GNN.fit(train_gen,\n",
    "                    validation_data=val_gen,\n",
    "                    epochs = NUM_EPOCHS,\n",
    "                    verbose = 1)"
   ]
  },
  {
   "cell_type": "code",
   "execution_count": 203,
   "id": "offshore-recipe",
   "metadata": {},
   "outputs": [
    {
     "data": {
      "image/png": "[encoded data removed]",
      "text/plain": [
       "<Figure size 288x288 with 1 Axes>"
      ]
     },
     "metadata": {
      "needs_background": "light"
     },
     "output_type": "display_data"
    }
   ],
   "source": [
    "input_graph, _, sort_indices = make_example((20,21))\n",
    "fig = plt.figure(1, figsize=(4, 4))\n",
    "ax = fig.add_subplot()\n",
    "start_node, next_nodes = GNN(input_graph)\n",
    "start_node_probs = start_node[-1]\n",
    "next_node_probs = next_nodes[-1]\n",
    "plot_numbers(ax, next_node_probs.numpy(), sort_indices)"
   ]
  },
  {
   "cell_type": "markdown",
   "id": "eastern-effort",
   "metadata": {},
   "source": [
    "### Decode a sorted list\n",
    "\n",
    "Start at the predicted start node. Greedily follow to the next unvisited node with highest probabilty."
   ]
  },
  {
   "cell_type": "code",
   "execution_count": 204,
   "id": "nominated-florida",
   "metadata": {},
   "outputs": [
    {
     "name": "stdout",
     "output_type": "stream",
     "text": [
      "unsorted numbers: [0.38763288 0.55068355 0.63585386 0.30715171 0.30430239 0.96569684\n",
      " 0.67923487 0.7508123  0.60724764 0.76464254 0.1989764  0.80916076\n",
      " 0.60731028 0.66005793 0.50115385 0.1531311  0.11513575 0.98302534\n",
      " 0.33980373 0.17662113]\n",
      "sorted numbers: [0.11513575 0.1531311  0.17662113 0.1989764  0.30430239 0.33980373\n",
      " 0.38763288 0.50115385 0.55068355 0.60724764 0.63585386 0.66005793\n",
      " 0.67923487 0.7508123  0.76464254 0.80916076 0.96569684 0.98302534\n",
      " 0.60731028 0.30715171]\n"
     ]
    }
   ],
   "source": [
    "def decode_sorting(numbers, start_node_probs, next_node_probs):\n",
    "    print(\"unsorted numbers:\", numbers)\n",
    "    start = np.argmax(start_node_probs)\n",
    "    sort_indices = [start]\n",
    "    unvisited = np.ones(len(numbers))\n",
    "    unvisited[start] = 0\n",
    "    current_node = start\n",
    "    for i in range(len(numbers)-1):\n",
    "        probs = unvisited * next_node_probs[current_node]\n",
    "        current_node = np.argmax(probs)\n",
    "        unvisited[current_node] = 0\n",
    "        sort_indices.append(current_node)\n",
    "    print(\"sorted numbers:\", numbers[sort_indices])\n",
    "\n",
    "decode_sorting(input_graph[\"nodes\"], start_node_probs, next_node_probs)"
   ]
  },
  {
   "cell_type": "markdown",
   "id": "reserved-hammer",
   "metadata": {},
   "source": [
    "General lists of any real numbers can be handled by rescaling to $[0,1]$"
   ]
  },
  {
   "cell_type": "code",
   "execution_count": 205,
   "id": "hired-veteran",
   "metadata": {},
   "outputs": [
    {
     "data": {
      "image/png": "[encoded data removed]",
      "text/plain": [
       "<Figure size 1080x576 with 5 Axes>"
      ]
     },
     "metadata": {
      "needs_background": "light"
     },
     "output_type": "display_data"
    }
   ],
   "source": [
    "# sorting over time: A visualization of each iteration\n",
    "ncols = 5\n",
    "nrows = int(np.ceil(config[\"message_passing_iterations\"]/ncols))\n",
    "\n",
    "fig = plt.figure(1, figsize=(15, 8))\n",
    "for i in range(config[\"message_passing_iterations\"]):\n",
    "    ax = fig.add_subplot(nrows, ncols, i+1)\n",
    "    ax.set_title(\"iteration \"+str(i+1))\n",
    "    start_node_probs = start_node[i]\n",
    "    next_node_probs = next_nodes[i]\n",
    "    plot_numbers(ax, next_node_probs.numpy(), sort_indices)"
   ]
  },
  {
   "cell_type": "code",
   "execution_count": null,
   "id": "ecological-official",
   "metadata": {},
   "outputs": [],
   "source": []
  }
 ],
 "metadata": {
  "kernelspec": {
   "display_name": "Python 3",
   "language": "python",
   "name": "python3"
  },
  "language_info": {
   "codemirror_mode": {
    "name": "ipython",
    "version": 3
   },
   "file_extension": ".py",
   "mimetype": "text/x-python",
   "name": "python",
   "nbconvert_exporter": "python",
   "pygments_lexer": "ipython3",
   "version": "3.8.6"
  }
 },
 "nbformat": 4,
 "nbformat_minor": 5
}
