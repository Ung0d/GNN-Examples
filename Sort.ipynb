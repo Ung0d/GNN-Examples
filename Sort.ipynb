{
 "cells": [
  {
   "cell_type": "markdown",
   "id": "reliable-sunglasses",
   "metadata": {},
   "source": [
    "## Sort a list using a neural network\n",
    "\n",
    "Input: A variable-length list of numbers $x_1, \\dots, x_k$ with $x_i \\in [0,1]$. \n",
    "\n",
    "Output: A sorted list of the same numbers.\n",
    "\n",
    "We want to apply $\\textbf{the same}$ network to any list independent of $k$.\n",
    "\n",
    "General lists of any real numbers can be handled by rescaling to $[0,1]$\n",
    "\n",
    "### Approach \n",
    "\n",
    "Treat the list as a fully connected directed graph where each node represents a number.\n",
    "Use binary labels on the edges to encode a sorting path from the smallest to the largest number, i.e. the network should predict a starting node and the links to the next elements in a sorted linked list.\n",
    "\n",
    "Note: Predicting the starting node is actually trivial. It is simply the smallest input number."
   ]
  },
  {
   "cell_type": "code",
   "execution_count": 1,
   "id": "assigned-quantity",
   "metadata": {},
   "outputs": [],
   "source": [
    "import numpy as np\n",
    "import tensorflow as tf\n",
    "from tensorflow import keras\n",
    "from tensorflow.keras import layers\n",
    "import matplotlib.pyplot as plt"
   ]
  },
  {
   "cell_type": "markdown",
   "id": "biblical-planning",
   "metadata": {},
   "source": [
    "We use a $n \\times n$ matrix to indicate the successor for each of the $n$ nodes in the sorted list. The last node has no successor, i.e. it is represented by a 0-vector and will not contribute to the loss. We will also compute the indices that will bring the unsorted list into sorted form."
   ]
  },
  {
   "cell_type": "code",
   "execution_count": 5,
   "id": "computational-robin",
   "metadata": {},
   "outputs": [
    {
     "name": "stdout",
     "output_type": "stream",
     "text": [
      "numbers to sort: {'nodes': array([0.39822772, 0.3048047 , 0.16254316, 0.2667158 , 0.43061536,\n",
      "       0.17363622, 0.32851825])}\n",
      "next: {'start_node': array([0., 0., 1., 0., 0., 0., 0.]), 'next_nodes': array([[0., 0., 0., 0., 1., 0., 0.],\n",
      "       [0., 0., 0., 0., 0., 0., 1.],\n",
      "       [0., 0., 0., 0., 0., 1., 0.],\n",
      "       [0., 1., 0., 0., 0., 0., 0.],\n",
      "       [0., 0., 0., 0., 0., 0., 0.],\n",
      "       [0., 0., 0., 1., 0., 0., 0.],\n",
      "       [1., 0., 0., 0., 0., 0., 0.]])}\n",
      "sort indices: [2 5 3 1 6 0 4]\n"
     ]
    }
   ],
   "source": [
    "def make_example(min_max):\n",
    "    num_elements = np.random.randint(min_max[0], min_max[1])\n",
    "    values = np.random.rand(num_elements)\n",
    "    sort_indices = np.argsort(values, axis=-1)\n",
    "    smallest = np.eye(num_elements)[sort_indices[0]]\n",
    "    links = np.zeros((num_elements, num_elements))\n",
    "    links[sort_indices[:-1], sort_indices[1:]] = 1\n",
    "    #links[sort_indices[-1], sort_indices[0]] = 1\n",
    "    input_graph = {\"nodes\" : values}\n",
    "    target_graph = {\"start_node\" : smallest,\n",
    "                   \"next_nodes\" : links}\n",
    "        \n",
    "    return input_graph, target_graph, sort_indices\n",
    "\n",
    "input_graph, target_graph, sort_indices = make_example((7,8))\n",
    "print(\"numbers to sort:\",input_graph)\n",
    "print(\"next:\",target_graph)\n",
    "print(\"sort indices:\",sort_indices)"
   ]
  },
  {
   "cell_type": "markdown",
   "id": "31196ff1-2e70-42c4-873b-831b00bd8e73",
   "metadata": {},
   "source": [
    "### Evaluation\n",
    "\n",
    "We can evaluate the model by using a heatmap that highlights the successor for each node with $\\textbf{sorted axis}$. A perfect prediction will look like below."
   ]
  },
  {
   "cell_type": "code",
   "execution_count": 4,
   "id": "alternative-robert",
   "metadata": {},
   "outputs": [
    {
     "data": {
      "image/png": "[encoded data removed]",
      "text/plain": [
       "<Figure size 288x288 with 1 Axes>"
      ]
     },
     "metadata": {
      "needs_background": "light"
     },
     "output_type": "display_data"
    }
   ],
   "source": [
    "def plot_numbers(ax, next_nodes, sort_indices):\n",
    "    ax.matshow(next_nodes[sort_indices][:, sort_indices], cmap=\"viridis\")\n",
    "    ax.grid(False)\n",
    "    \n",
    "fig = plt.figure(1, figsize=(4, 4))\n",
    "ax = fig.add_subplot()\n",
    "plot_numbers(ax, target_graph[\"next_nodes\"], sort_indices)"
   ]
  },
  {
   "cell_type": "code",
   "execution_count": 102,
   "id": "coordinate-liability",
   "metadata": {},
   "outputs": [],
   "source": [
    "#intervals to sample lists lengths from\n",
    "#we use short lists for training and longer lists for evaluation\n",
    "NUM_NODES_TRAIN = (30,45)\n",
    "NUM_NODES_VAL = (100,130)\n",
    "\n",
    "class SampleGenerator(keras.utils.Sequence):\n",
    "\n",
    "    def __init__(self, num_minmax, epoch_len):\n",
    "        self.num_minmax = num_minmax\n",
    "        self.epoch_len = epoch_len\n",
    "\n",
    "    def __len__(self):\n",
    "        return self.epoch_len #number of gradient descent steps per epoch\n",
    "\n",
    "    def __getitem__(self, _index):\n",
    "        inp, tar, _ = make_example(self.num_minmax)\n",
    "        return inp, tar"
   ]
  },
  {
   "cell_type": "markdown",
   "id": "advanced-national",
   "metadata": {},
   "source": [
    "Define a model. We use a very simple GNN with only node states. We only have node inputs which are the numbers to sort. For each node, we want to predict the probability of being the \"start\" node (i.e. the node with the smallest number). For each edge we want to predict whether it is a link in a sorted list. Edge predictions are done on pairs of node states. \n",
    "\n",
    "We don't use global attributes for in- and output."
   ]
  },
  {
   "cell_type": "code",
   "execution_count": 103,
   "id": "compressed-marshall",
   "metadata": {},
   "outputs": [],
   "source": [
    "#a feedforward layer\n",
    "def make_ff_layer(config):\n",
    "    return keras.Sequential([\n",
    "            layers.Dense(config[\"latent_dim\"], activation=\"relu\"),\n",
    "            layers.Dense(config[\"latent_dim\"]),\n",
    "            layers.LayerNormalization()])\n",
    "\n",
    "def make_GNN(config):\n",
    "    \n",
    "    #define the inputs\n",
    "    #note: keras inputs have their batch size omitted in \"shape\"\n",
    "    V = keras.Input(shape=(1), name=\"nodes\") \n",
    "    \n",
    "    n = tf.shape(V)[0]\n",
    "    \n",
    "    #layers\n",
    "    node_encoder = make_ff_layer(config)\n",
    "    edge_encoder = layers.Dense(config[\"latent_dim\"])\n",
    "    node_messenger = make_ff_layer(config)\n",
    "    edge_messenger = make_ff_layer(config)\n",
    "    node_updater = make_ff_layer(config)\n",
    "    edge_updater = make_ff_layer(config)\n",
    "    node_decoder = layers.Dense(1)\n",
    "    edge_decoder = keras.Sequential([\n",
    "            layers.Dense(config[\"latent_dim\"], activation=\"relu\"),\n",
    "            layers.Dense(1)])\n",
    "    \n",
    "    #step 1: encode\n",
    "    #transform each node (dim=3) and edge (dim=1) to a latent embedding of \"latent_dim\"\n",
    "    V_enc = node_encoder(V)\n",
    "    E_enc = edge_encoder(tf.zeros((n,n,1)))\n",
    "    \n",
    "    start_node = []\n",
    "    next_nodes = []\n",
    "    \n",
    "    #step 2: message passing\n",
    "    for _ in range(config[\"message_passing_iterations\"]):\n",
    "        \n",
    "        #the graph is fully connected, i.e. each node sends to all other nodes\n",
    "        #we include self loops for simplicity\n",
    "        E_message = edge_messenger(E_enc)\n",
    "        E_message = tf.reduce_mean(E_message, axis=1)\n",
    "        \n",
    "        #update all nodes based on current state and aggregated edge states\n",
    "        V_concat = tf.concat([V_enc, E_message], axis=-1)\n",
    "        V_enc = node_updater(V_concat)\n",
    "        \n",
    "        #update all edges based on the current edge state and the 2 adjacent node \n",
    "        V_message = node_messenger(V_enc)\n",
    "        V_tile = tf.tile(V_message, [n,1]) #abc -> (abc abc ... abc) \n",
    "        V_rep = tf.repeat(V_message, tf.ones(n,dtype=tf.int32)*n, axis=0) #abc -> (aa..a  bb..b  cc..c) \n",
    "        V_tile = tf.reshape(V_tile, (n,n,config[\"latent_dim\"]))\n",
    "        V_rep = tf.reshape(V_rep, (n,n,config[\"latent_dim\"]))\n",
    "        E_concat = tf.concat([E_enc, V_tile, V_rep], axis=-1)\n",
    "        E_enc = edge_updater(E_concat)\n",
    "        \n",
    "        \n",
    "        #decoding (after each iteration to evaluate performance over time)\n",
    "        #for this GNN, we need node and edge predictions\n",
    "        #for nodes, use the refined embeddings from message passing above:\n",
    "        start_node_probs = node_decoder(V_enc)\n",
    "        #remove \"1\" dimensions\n",
    "        start_node_probs = tf.squeeze(start_node_probs)\n",
    "        #decide for one start node\n",
    "        start_node_probs = tf.nn.softmax(start_node_probs) \n",
    "\n",
    "        #for edges, use the respective pair of node embeddings (we did not use explicit edge embeddings)\n",
    "        #organize edges as follows:\n",
    "        #<n edges from v_1>, <n edges from v_2>, ..., <n edges from v_n>\n",
    "        #we do not exclude self loops for simplicity\n",
    "        next_node_probs = edge_decoder(E_enc)\n",
    "        next_node_probs = tf.reshape(next_node_probs, (n,n))\n",
    "        #for each node, decide for one \"next\" node\n",
    "        next_node_probs = tf.nn.softmax(next_node_probs)\n",
    "        \n",
    "        start_node.append(start_node_probs)\n",
    "        next_nodes.append(next_node_probs)\n",
    "        \n",
    "    outputs = []\n",
    "    outputs.append(layers.Lambda(lambda x: x, name=\"start_node\")(tf.stack(start_node)))\n",
    "    outputs.append(layers.Lambda(lambda x: x, name=\"next_nodes\")(tf.stack(next_nodes)))\n",
    "    \n",
    "    model = keras.Model(inputs=[V], \n",
    "                        outputs=outputs)\n",
    "\n",
    "    return model    "
   ]
  },
  {
   "cell_type": "code",
   "execution_count": 105,
   "id": "ordinary-conference",
   "metadata": {},
   "outputs": [
    {
     "name": "stdout",
     "output_type": "stream",
     "text": [
      "Epoch 1/20\n",
      "2000/2000 [==============================] - 71s 30ms/step - loss: 2.2234 - start_node_loss: 0.4881 - next_nodes_loss: 1.7353 - start_node_acc_first: 0.8186 - next_nodes_acc_next: 0.3115 - val_loss: 4.0965 - val_start_node_loss: 1.0087 - val_next_nodes_loss: 3.0878 - val_start_node_acc_first: 0.9205 - val_next_nodes_acc_next: 0.4874\n",
      "Epoch 2/20\n",
      "2000/2000 [==============================] - 58s 29ms/step - loss: 1.3138 - start_node_loss: 0.3671 - next_nodes_loss: 0.9467 - start_node_acc_first: 0.9444 - next_nodes_acc_next: 0.5453 - val_loss: 8.6792 - val_start_node_loss: 3.9763 - val_next_nodes_loss: 4.7029 - val_start_node_acc_first: 0.9497 - val_next_nodes_acc_next: 0.5998\n",
      "Epoch 3/20\n",
      "2000/2000 [==============================] - 58s 29ms/step - loss: 2.3565 - start_node_loss: 0.2940 - next_nodes_loss: 2.0625 - start_node_acc_first: 0.9593 - next_nodes_acc_next: 0.5146 - val_loss: 2.4314 - val_start_node_loss: 0.3499 - val_next_nodes_loss: 2.0815 - val_start_node_acc_first: 0.9665 - val_next_nodes_acc_next: 0.5040\n",
      "Epoch 4/20\n",
      "2000/2000 [==============================] - 58s 29ms/step - loss: 0.8401 - start_node_loss: 0.1000 - next_nodes_loss: 0.7402 - start_node_acc_first: 0.9707 - next_nodes_acc_next: 0.5320 - val_loss: 2.0104 - val_start_node_loss: 0.1747 - val_next_nodes_loss: 1.8357 - val_start_node_acc_first: 0.9744 - val_next_nodes_acc_next: 0.5575\n",
      "Epoch 5/20\n",
      "2000/2000 [==============================] - 58s 29ms/step - loss: 0.5938 - start_node_loss: 0.0563 - next_nodes_loss: 0.5375 - start_node_acc_first: 0.9772 - next_nodes_acc_next: 0.5827 - val_loss: 1.2895 - val_start_node_loss: 0.0880 - val_next_nodes_loss: 1.2015 - val_start_node_acc_first: 0.9795 - val_next_nodes_acc_next: 0.6061\n",
      "Epoch 6/20\n",
      "2000/2000 [==============================] - 58s 29ms/step - loss: 0.4811 - start_node_loss: 0.0399 - next_nodes_loss: 0.4412 - start_node_acc_first: 0.9812 - next_nodes_acc_next: 0.6262 - val_loss: 2.0772 - val_start_node_loss: 0.2279 - val_next_nodes_loss: 1.8494 - val_start_node_acc_first: 0.9828 - val_next_nodes_acc_next: 0.6432\n",
      "Epoch 7/20\n",
      "2000/2000 [==============================] - 58s 29ms/step - loss: 0.4095 - start_node_loss: 0.0337 - next_nodes_loss: 0.3758 - start_node_acc_first: 0.9841 - next_nodes_acc_next: 0.6573 - val_loss: 2.6714 - val_start_node_loss: 0.0219 - val_next_nodes_loss: 2.6495 - val_start_node_acc_first: 0.9851 - val_next_nodes_acc_next: 0.6715\n",
      "Epoch 8/20\n",
      "2000/2000 [==============================] - 58s 29ms/step - loss: 0.3307 - start_node_loss: 0.0232 - next_nodes_loss: 0.3075 - start_node_acc_first: 0.9860 - next_nodes_acc_next: 0.6838 - val_loss: 2.8483 - val_start_node_loss: 0.0946 - val_next_nodes_loss: 2.7537 - val_start_node_acc_first: 0.9867 - val_next_nodes_acc_next: 0.6954\n",
      "Epoch 9/20\n",
      "2000/2000 [==============================] - 58s 29ms/step - loss: 0.3244 - start_node_loss: 0.0213 - next_nodes_loss: 0.3031 - start_node_acc_first: 0.9875 - next_nodes_acc_next: 0.7050 - val_loss: 4.0858 - val_start_node_loss: 0.0414 - val_next_nodes_loss: 4.0444 - val_start_node_acc_first: 0.9881 - val_next_nodes_acc_next: 0.7137\n",
      "Epoch 10/20\n",
      "2000/2000 [==============================] - 58s 29ms/step - loss: 0.2686 - start_node_loss: 0.0192 - next_nodes_loss: 0.2495 - start_node_acc_first: 0.9886 - next_nodes_acc_next: 0.7219 - val_loss: 6.8816 - val_start_node_loss: 0.2135 - val_next_nodes_loss: 6.6681 - val_start_node_acc_first: 0.9891 - val_next_nodes_acc_next: 0.7293\n",
      "Epoch 11/20\n",
      "2000/2000 [==============================] - 58s 29ms/step - loss: 0.2712 - start_node_loss: 0.0185 - next_nodes_loss: 0.2527 - start_node_acc_first: 0.9894 - next_nodes_acc_next: 0.7357 - val_loss: 3.1941 - val_start_node_loss: 0.1643 - val_next_nodes_loss: 3.0297 - val_start_node_acc_first: 0.9897 - val_next_nodes_acc_next: 0.7427\n",
      "Epoch 12/20\n",
      "2000/2000 [==============================] - 58s 29ms/step - loss: 0.2413 - start_node_loss: 0.0158 - next_nodes_loss: 0.2256 - start_node_acc_first: 0.9901 - next_nodes_acc_next: 0.7494 - val_loss: 2.4056 - val_start_node_loss: 0.0771 - val_next_nodes_loss: 2.3285 - val_start_node_acc_first: 0.9903 - val_next_nodes_acc_next: 0.7552\n",
      "Epoch 13/20\n",
      "2000/2000 [==============================] - 58s 29ms/step - loss: 0.2319 - start_node_loss: 0.0181 - next_nodes_loss: 0.2138 - start_node_acc_first: 0.9906 - next_nodes_acc_next: 0.7606 - val_loss: 1.5512 - val_start_node_loss: 0.0103 - val_next_nodes_loss: 1.5409 - val_start_node_acc_first: 0.9909 - val_next_nodes_acc_next: 0.7669\n",
      "Epoch 14/20\n",
      "2000/2000 [==============================] - 58s 29ms/step - loss: 0.2000 - start_node_loss: 0.0118 - next_nodes_loss: 0.1882 - start_node_acc_first: 0.9912 - next_nodes_acc_next: 0.7727 - val_loss: 3.2255 - val_start_node_loss: 0.0308 - val_next_nodes_loss: 3.1947 - val_start_node_acc_first: 0.9915 - val_next_nodes_acc_next: 0.7774\n",
      "Epoch 15/20\n",
      "2000/2000 [==============================] - 58s 29ms/step - loss: 0.2885 - start_node_loss: 0.0262 - next_nodes_loss: 0.2622 - start_node_acc_first: 0.9917 - next_nodes_acc_next: 0.7805 - val_loss: 3.7314 - val_start_node_loss: 0.0260 - val_next_nodes_loss: 3.7054 - val_start_node_acc_first: 0.9919 - val_next_nodes_acc_next: 0.7843\n",
      "Epoch 16/20\n",
      "2000/2000 [==============================] - 58s 29ms/step - loss: 0.2285 - start_node_loss: 0.0129 - next_nodes_loss: 0.2155 - start_node_acc_first: 0.9920 - next_nodes_acc_next: 0.7875 - val_loss: 3.1104 - val_start_node_loss: 0.0387 - val_next_nodes_loss: 3.0717 - val_start_node_acc_first: 0.9923 - val_next_nodes_acc_next: 0.7915\n",
      "Epoch 17/20\n",
      "2000/2000 [==============================] - 58s 29ms/step - loss: 0.1942 - start_node_loss: 0.0133 - next_nodes_loss: 0.1809 - start_node_acc_first: 0.9925 - next_nodes_acc_next: 0.7950 - val_loss: 1.4660 - val_start_node_loss: 0.0306 - val_next_nodes_loss: 1.4354 - val_start_node_acc_first: 0.9926 - val_next_nodes_acc_next: 0.7992\n",
      "Epoch 18/20\n",
      "2000/2000 [==============================] - 58s 29ms/step - loss: 0.1883 - start_node_loss: 0.0103 - next_nodes_loss: 0.1780 - start_node_acc_first: 0.9928 - next_nodes_acc_next: 0.8027 - val_loss: 2.5218 - val_start_node_loss: 0.1007 - val_next_nodes_loss: 2.4210 - val_start_node_acc_first: 0.9930 - val_next_nodes_acc_next: 0.8061\n",
      "Epoch 19/20\n",
      "2000/2000 [==============================] - 58s 29ms/step - loss: 0.4078 - start_node_loss: 0.0213 - next_nodes_loss: 0.3865 - start_node_acc_first: 0.9932 - next_nodes_acc_next: 0.8081 - val_loss: 3.0806 - val_start_node_loss: 0.1756 - val_next_nodes_loss: 2.9051 - val_start_node_acc_first: 0.9933 - val_next_nodes_acc_next: 0.8083\n",
      "Epoch 20/20\n",
      "2000/2000 [==============================] - 58s 29ms/step - loss: 0.2637 - start_node_loss: 0.0136 - next_nodes_loss: 0.2501 - start_node_acc_first: 0.9935 - next_nodes_acc_next: 0.8111 - val_loss: 2.2599 - val_start_node_loss: 0.0603 - val_next_nodes_loss: 2.1996 - val_start_node_acc_first: 0.9937 - val_next_nodes_acc_next: 0.8139\n"
     ]
    }
   ],
   "source": [
    "config = {\n",
    "    \"message_passing_iterations\" : 10,\n",
    "    \"latent_dim\" : 16\n",
    "}\n",
    "\n",
    "NUM_EPOCHS = 20\n",
    "\n",
    "train_gen = SampleGenerator(NUM_NODES_TRAIN, 2000)\n",
    "val_gen = SampleGenerator(NUM_NODES_VAL, 50)\n",
    "\n",
    "GNN = make_GNN(config)\n",
    "\n",
    "cee = tf.keras.losses.CategoricalCrossentropy(reduction=tf.keras.losses.Reduction.NONE)\n",
    "acc_first_ = tf.keras.metrics.CategoricalAccuracy()\n",
    "acc_next_ = tf.keras.metrics.CategoricalAccuracy()\n",
    "\n",
    "def cee_last_iteration(y_true, y_pred):\n",
    "    loss = 0\n",
    "    for i in range(config[\"message_passing_iterations\"]):\n",
    "        loss += tf.reduce_mean(cee(y_true, y_pred[i])) #compute loss for all iterations\n",
    "    return loss / config[\"message_passing_iterations\"]\n",
    "    #return tf.reduce_mean(cee(y_true, y_pred[-1]))\n",
    "\n",
    "def acc_first(y_true, y_pred):\n",
    "    return acc_first_(y_true, y_pred[-1])\n",
    "\n",
    "def acc_next(y_true, y_pred):\n",
    "    return acc_next_(y_true, y_pred[-1])\n",
    "\n",
    "# The decay is useful for models with moderate accuracy where wrong predictions\n",
    "# most likely are input numbers that are very similar.\n",
    "# In this case, rather small updates of the weights are required.\n",
    "lr_decay = tf.keras.optimizers.schedules.ExponentialDecay(1e-1, 1000, 0.7)\n",
    "\n",
    "optimizer = tf.keras.optimizers.Adam(learning_rate = 1e-3)\n",
    "\n",
    "GNN.compile(loss= {\"start_node\" : cee_last_iteration,\n",
    "                \"next_nodes\" : cee_last_iteration}, \n",
    "            optimizer=optimizer, \n",
    "            metrics={\"start_node\" : acc_first,\n",
    "                \"next_nodes\" : acc_next})\n",
    "\n",
    "#takes ~2min on GPU\n",
    "#note that this is unneccessarily long since we don't use batching\n",
    "#to keep the code simple\n",
    "history = GNN.fit(train_gen,\n",
    "                    validation_data=val_gen,\n",
    "                    epochs = NUM_EPOCHS,\n",
    "                    verbose = 1)"
   ]
  },
  {
   "cell_type": "code",
   "execution_count": 106,
   "id": "6140cdda-78e8-4cbd-a92b-14aadfd7e89c",
   "metadata": {},
   "outputs": [
    {
     "data": {
      "image/png": "[encoded data removed]",
      "text/plain": [
       "<Figure size 1080x432 with 2 Axes>"
      ]
     },
     "metadata": {
      "needs_background": "light"
     },
     "output_type": "display_data"
    }
   ],
   "source": [
    "_, ax = plt.subplots(ncols = 2, figsize = (15, 6))\n",
    "\n",
    "ax[0].plot(np.arange(NUM_EPOCHS), history.history[\"loss\"], 'b', label = 'Training loss')\n",
    "ax[0].plot(np.arange(NUM_EPOCHS), history.history[\"val_loss\"], 'g', label = 'Validation loss')\n",
    "ax[0].set_title('Training and validation loss')\n",
    "ax[0].set_xlabel('epoch')\n",
    "ax[0].set_ylabel('loss')\n",
    "ax[0].legend();\n",
    "\n",
    "ax[1].plot(np.arange(NUM_EPOCHS), history.history[\"next_nodes_acc_next\"], 'b', label = 'Training next node accuracy')\n",
    "ax[1].plot(np.arange(NUM_EPOCHS), history.history[\"val_next_nodes_acc_next\"], 'g', label = 'Validation next node accuracy')\n",
    "ax[1].set_title('Training and validation next node accuracy')\n",
    "ax[1].set_xlabel('epoch')\n",
    "ax[1].set_ylabel('loss')\n",
    "ax[1].legend();"
   ]
  },
  {
   "cell_type": "code",
   "execution_count": 110,
   "id": "offshore-recipe",
   "metadata": {},
   "outputs": [
    {
     "data": {
      "image/png": "[encoded data removed]",
      "text/plain": [
       "<Figure size 288x288 with 1 Axes>"
      ]
     },
     "metadata": {
      "needs_background": "light"
     },
     "output_type": "display_data"
    }
   ],
   "source": [
    "input_graph, _, sort_indices = make_example((20,21))\n",
    "fig = plt.figure(1, figsize=(4, 4))\n",
    "ax = fig.add_subplot()\n",
    "start_node, next_nodes = GNN(input_graph)\n",
    "start_node_probs = start_node[-1]\n",
    "next_node_probs = next_nodes[-1]\n",
    "plot_numbers(ax, next_node_probs.numpy(), sort_indices)"
   ]
  },
  {
   "cell_type": "markdown",
   "id": "eastern-effort",
   "metadata": {},
   "source": [
    "### Decode a sorted list\n",
    "\n",
    "Start at the predicted start node. Greedily follow to the next unvisited node with highest probabilty."
   ]
  },
  {
   "cell_type": "code",
   "execution_count": 111,
   "id": "nominated-florida",
   "metadata": {},
   "outputs": [
    {
     "name": "stdout",
     "output_type": "stream",
     "text": [
      "unsorted numbers: [0.16938192 0.84461391 0.22616482 0.20411431 0.04578072 0.12274356\n",
      " 0.52547717 0.15104782 0.3889463  0.55589132 0.89224774 0.66335873\n",
      " 0.32246891 0.26554763 0.29059985 0.70834625 0.80582798 0.97910701\n",
      " 0.90664    0.92138999]\n",
      "sorted numbers: [0.04578072 0.12274356 0.15104782 0.16938192 0.20411431 0.22616482\n",
      " 0.26554763 0.29059985 0.32246891 0.3889463  0.52547717 0.55589132\n",
      " 0.66335873 0.70834625 0.80582798 0.84461391 0.89224774 0.90664\n",
      " 0.92138999 0.97910701]\n"
     ]
    }
   ],
   "source": [
    "def decode_sorting(numbers, start_node_probs, next_node_probs):\n",
    "    print(\"unsorted numbers:\", numbers)\n",
    "    start = np.argmax(start_node_probs)\n",
    "    sort_indices = [start]\n",
    "    unvisited = np.ones(len(numbers))\n",
    "    unvisited[start] = 0\n",
    "    current_node = start\n",
    "    for i in range(len(numbers)-1):\n",
    "        probs = unvisited * next_node_probs[current_node]\n",
    "        current_node = np.argmax(probs)\n",
    "        unvisited[current_node] = 0\n",
    "        sort_indices.append(current_node)\n",
    "    print(\"sorted numbers:\", numbers[sort_indices])\n",
    "\n",
    "decode_sorting(input_graph[\"nodes\"], start_node_probs, next_node_probs)"
   ]
  },
  {
   "cell_type": "code",
   "execution_count": 112,
   "id": "hired-veteran",
   "metadata": {},
   "outputs": [
    {
     "data": {
      "image/png": "[encoded data removed]",
      "text/plain": [
       "<Figure size 1080x576 with 10 Axes>"
      ]
     },
     "metadata": {
      "needs_background": "light"
     },
     "output_type": "display_data"
    }
   ],
   "source": [
    "# sorting over time: A visualization of each iteration\n",
    "ncols = 5\n",
    "nrows = int(np.ceil(config[\"message_passing_iterations\"]/ncols))\n",
    "\n",
    "fig = plt.figure(1, figsize=(15, 8))\n",
    "for i in range(config[\"message_passing_iterations\"]):\n",
    "    ax = fig.add_subplot(nrows, ncols, i+1)\n",
    "    ax.set_title(\"iteration \"+str(i+1))\n",
    "    start_node_probs = start_node[i]\n",
    "    next_node_probs = next_nodes[i]\n",
    "    plot_numbers(ax, next_node_probs.numpy(), sort_indices)"
   ]
  },
  {
   "cell_type": "code",
   "execution_count": null,
   "id": "ecological-official",
   "metadata": {},
   "outputs": [],
   "source": []
  }
 ],
 "metadata": {
  "kernelspec": {
   "display_name": "Python 3",
   "language": "python",
   "name": "python3"
  },
  "language_info": {
   "codemirror_mode": {
    "name": "ipython",
    "version": 3
   },
   "file_extension": ".py",
   "mimetype": "text/x-python",
   "name": "python",
   "nbconvert_exporter": "python",
   "pygments_lexer": "ipython3",
   "version": "3.9.2"
  }
 },
 "nbformat": 4,
 "nbformat_minor": 5
}
