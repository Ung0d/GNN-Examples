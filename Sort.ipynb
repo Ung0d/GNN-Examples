{
 "cells": [
  {
   "cell_type": "markdown",
   "id": "mexican-instruction",
   "metadata": {},
   "source": [
    "## Sort a list using a neural network\n",
    "\n",
    "Input: A list of numbers.\n",
    "\n",
    "Output: A sorted list of the same numbers.\n",
    "\n",
    "Treat the list as a fully connected directed graph where each node represents a number.\n",
    "Use binary labels on the edges to encode a sorting path from the smallest to the largest number, i.e. the network should predict a starting node and the links to the next elements in a sorted linked list.\n",
    "\n",
    "Note: Predicting the starting node is actually trivial. It is simply the smallest input number."
   ]
  },
  {
   "cell_type": "code",
   "execution_count": 1,
   "id": "direct-philosophy",
   "metadata": {},
   "outputs": [],
   "source": [
    "import numpy as np\n",
    "import tensorflow as tf\n",
    "from tensorflow import keras\n",
    "from tensorflow.keras import layers\n",
    "import matplotlib.pyplot as plt"
   ]
  },
  {
   "cell_type": "markdown",
   "id": "bulgarian-sterling",
   "metadata": {},
   "source": [
    "We use a $n \\times n$ matrix to indicate the successor for each of the $n$ nodes in the sorted list. For convenience we define the starting node as the successor of the last node in the sorted list."
   ]
  },
  {
   "cell_type": "code",
   "execution_count": 12,
   "id": "opponent-silicon",
   "metadata": {},
   "outputs": [
    {
     "name": "stdout",
     "output_type": "stream",
     "text": [
      "numbers to sort: {'nodes': array([0.97253937, 0.64863899, 0.7201597 , 0.68752492, 0.43036382,\n",
      "       0.32794481, 0.63686045])}\n",
      "next: {'start_node': array([0., 0., 0., 0., 0., 1., 0.]), 'next_nodes': array([[0., 0., 0., 0., 0., 1., 0.],\n",
      "       [0., 0., 0., 1., 0., 0., 0.],\n",
      "       [1., 0., 0., 0., 0., 0., 0.],\n",
      "       [0., 0., 1., 0., 0., 0., 0.],\n",
      "       [0., 0., 0., 0., 0., 0., 1.],\n",
      "       [0., 0., 0., 0., 1., 0., 0.],\n",
      "       [0., 1., 0., 0., 0., 0., 0.]])}\n",
      "sort indices: [5 4 6 1 3 2 0]\n"
     ]
    }
   ],
   "source": [
    "def make_example(min_max, reps=1):\n",
    "    num_elements = np.random.randint(min_max[0], min_max[1])\n",
    "    values = np.random.rand(num_elements)\n",
    "    sort_indices = np.argsort(values, axis=-1)\n",
    "    smallest = np.eye(num_elements)[sort_indices[0]]\n",
    "    links = np.zeros((num_elements, num_elements))\n",
    "    links[sort_indices[:-1], sort_indices[1:]] = 1\n",
    "    links[sort_indices[-1], sort_indices[0]] = 1\n",
    "    input_graph = {\"nodes\" : values}\n",
    "    if reps==1:\n",
    "        target_graph = {\"start_node\" : smallest,\n",
    "                       \"next_nodes\" : links}\n",
    "    else:\n",
    "        target_graph = {\"start_node_\"+str(i) : smallest for i in range(reps)}\n",
    "        target_graph.update({\"next_nodes_\"+str(i) : links for i in range(reps)})\n",
    "        \n",
    "    return input_graph, target_graph, sort_indices\n",
    "\n",
    "input_graph, target_graph, sort_indices = make_example((7,8))\n",
    "print(\"numbers to sort:\",input_graph)\n",
    "print(\"next:\",target_graph)\n",
    "print(\"sort indices:\",sort_indices)"
   ]
  },
  {
   "cell_type": "code",
   "execution_count": 13,
   "id": "guided-davis",
   "metadata": {},
   "outputs": [
    {
     "data": {
      "image/png": "[encoded data removed]",
      "text/plain": [
       "<Figure size 288x288 with 1 Axes>"
      ]
     },
     "metadata": {
      "needs_background": "light"
     },
     "output_type": "display_data"
    }
   ],
   "source": [
    "def plot_numbers(ax, next_nodes, sort_indices):\n",
    "    ax.matshow(next_nodes[sort_indices][:, sort_indices], cmap=\"viridis\")\n",
    "    ax.grid(False)\n",
    "    \n",
    "fig = plt.figure(1, figsize=(4, 4))\n",
    "ax = fig.add_subplot()\n",
    "plot_numbers(ax, target_graph[\"next_nodes\"], sort_indices)"
   ]
  },
  {
   "cell_type": "code",
   "execution_count": 14,
   "id": "hourly-sentence",
   "metadata": {},
   "outputs": [],
   "source": [
    "NUM_NODES_TRAIN = (100,150)\n",
    "NUM_NODES_VAL = (250,300)\n",
    "\n",
    "class SampleGenerator(keras.utils.Sequence):\n",
    "\n",
    "    def __init__(self, num_minmax, epoch_len, reps):\n",
    "        self.num_minmax = num_minmax\n",
    "        self.epoch_len = epoch_len\n",
    "        self.reps = reps\n",
    "\n",
    "    def __len__(self):\n",
    "        return self.epoch_len #number of gradient descent steps per epoch\n",
    "\n",
    "    def __getitem__(self, _index):\n",
    "        inp, tar, _ = make_example(self.num_minmax, self.reps)\n",
    "        return inp, tar"
   ]
  },
  {
   "cell_type": "markdown",
   "id": "concrete-yacht",
   "metadata": {},
   "source": [
    "Define a model. We only have node inputs which are the numbers to sort. For each node, we want to predict the probability of being the \"start\" node (i.e. the node with the smallest number). For each edge we want to predict successor in a sorted linked list. We use a very simple GNN with only node states. Edge predictions are done on pairs of node states. \n",
    "\n",
    "We don't use global attributes for in- and output."
   ]
  },
  {
   "cell_type": "code",
   "execution_count": 15,
   "id": "reserved-collection",
   "metadata": {},
   "outputs": [],
   "source": [
    "#a feedforward layer\n",
    "def make_ff_layer(config):\n",
    "    return keras.Sequential([\n",
    "            layers.Dense(config[\"latent_dim\"], activation=\"relu\"),\n",
    "            layers.Dense(config[\"latent_dim\"]),\n",
    "            layers.LayerNormalization()])\n",
    "\n",
    "def make_GNN(config):\n",
    "    \n",
    "    #define the inputs\n",
    "    #note: keras inputs have their batch size omitted in \"shape\"\n",
    "    V = keras.Input(shape=(1), name=\"nodes\") \n",
    "    \n",
    "    n = tf.shape(V)[0]\n",
    "    \n",
    "    #layers\n",
    "    node_encoder = make_ff_layer(config)\n",
    "    node_messager = make_ff_layer(config)\n",
    "    node_updater = make_ff_layer(config)\n",
    "    node_decoder = layers.Dense(1)\n",
    "    edge_decoder = keras.Sequential([\n",
    "            layers.Dense(config[\"latent_dim\"], activation=\"relu\"),\n",
    "            layers.Dense(1)])\n",
    "    \n",
    "    #step 1: encode\n",
    "    #transform each node (dim=3) and edge (dim=1) to a latent embedding of \"latent_dim\"\n",
    "    V_enc = node_encoder(V)\n",
    "    \n",
    "    outputs = []\n",
    "    \n",
    "    #step 2: message passing\n",
    "    for i in range(config[\"message_passing_iterations\"]):\n",
    "        \n",
    "        #the graph is fully connected, i.e. each node sends \n",
    "        #to all other nodes except itself \n",
    "        V_message = node_messager(V_enc)\n",
    "        V_message = (tf.reduce_sum(V_message, axis=0, keepdims=True) - V_message) \n",
    "        V_message /= tf.cast(n-1, dtype=V_message.dtype)\n",
    "        \n",
    "        #update all nodes based on current state and aggregated edge states\n",
    "        V_concat = tf.concat([V_enc, V_message], axis=-1)\n",
    "        V_enc = node_updater(V_concat)\n",
    "        \n",
    "        #decoding (after each iteration to evaluate performance over time)\n",
    "        #for this GNN, we need node and edge predictions\n",
    "        #for nodes, use the refined embeddings from message passing above:\n",
    "        start_node_probs = node_decoder(V_enc)\n",
    "        #remove \"1\" dimensions\n",
    "        start_node_probs = tf.squeeze(start_node_probs)\n",
    "        #decide for one start node\n",
    "        start_node_probs = tf.nn.softmax(start_node_probs) \n",
    "\n",
    "        #for edges, use the respective pair of node embeddings (we did not use explicit edge embeddings)\n",
    "        #organize edges as follows:\n",
    "        #<n edges from v_1>, <n edges from v_2>, ..., <n edges from v_n>\n",
    "        #we do not exclude self loops for simplicity\n",
    "        V_tile = tf.tile(V_enc, [n,1]) #abc -> (abc abc ... abc) \n",
    "        V_rep = tf.repeat(V_enc, tf.ones(n,dtype=tf.int32)*n, axis=0) #abc -> (aa..a  bb..b  cc..c) \n",
    "        next_node_probs = edge_decoder(tf.concat([V_tile, V_rep], axis=-1))\n",
    "        next_node_probs = tf.reshape(next_node_probs, (n,n))\n",
    "        #for each node, decide for one \"next\" node\n",
    "        #for conveniece, we define \"start\" to follow \"end\" \n",
    "        next_node_probs = tf.nn.softmax(next_node_probs)\n",
    "\n",
    "        #manually set diagonals to 0 (exclude self loops) and rescale\n",
    "        next_node_probs -= tf.linalg.diag(tf.linalg.diag_part(next_node_probs))\n",
    "        next_node_probs /= tf.reduce_sum(next_node_probs, axis=-1, keepdims=True)\n",
    "        \n",
    "        outputs.append(layers.Lambda(lambda x: x, name=\"start_node_\"+str(i))(start_node_probs))\n",
    "        outputs.append(layers.Lambda(lambda x: x, name=\"next_nodes_\"+str(i))(next_node_probs))\n",
    "    \n",
    "    model = keras.Model(inputs=[V], \n",
    "                        outputs=outputs)\n",
    "\n",
    "    return model    "
   ]
  },
  {
   "cell_type": "code",
   "execution_count": 64,
   "id": "alternate-photographer",
   "metadata": {},
   "outputs": [
    {
     "name": "stdout",
     "output_type": "stream",
     "text": [
      "Epoch 1/10\n",
      "1000/1000 [==============================] - 24s 24ms/step - loss: 29.5836 - start_node_0_loss: 0.6188 - next_nodes_0_loss: 3.1599 - start_node_1_loss: 0.5315 - next_nodes_1_loss: 2.6868 - start_node_2_loss: 0.5213 - next_nodes_2_loss: 2.4818 - start_node_3_loss: 0.4863 - next_nodes_3_loss: 2.3345 - start_node_4_loss: 0.5026 - next_nodes_4_loss: 2.2742 - start_node_5_loss: 0.5128 - next_nodes_5_loss: 2.2401 - start_node_6_loss: 0.5349 - next_nodes_6_loss: 2.2226 - start_node_7_loss: 0.5539 - next_nodes_7_loss: 2.2073 - start_node_8_loss: 0.5879 - next_nodes_8_loss: 2.2404 - start_node_9_loss: 0.6180 - next_nodes_9_loss: 2.2679 - start_node_0_categorical_accuracy: 0.9960 - next_nodes_0_categorical_accuracy: 0.3685 - start_node_1_categorical_accuracy: 0.9950 - next_nodes_1_categorical_accuracy: 0.4163 - start_node_2_categorical_accuracy: 0.9930 - next_nodes_2_categorical_accuracy: 0.4352 - start_node_3_categorical_accuracy: 0.9870 - next_nodes_3_categorical_accuracy: 0.4580 - start_node_4_categorical_accuracy: 0.9890 - next_nodes_4_categorical_accuracy: 0.4715 - start_node_5_categorical_accuracy: 0.9890 - next_nodes_5_categorical_accuracy: 0.4824 - start_node_6_categorical_accuracy: 0.9790 - next_nodes_6_categorical_accuracy: 0.4908 - start_node_7_categorical_accuracy: 0.9760 - next_nodes_7_categorical_accuracy: 0.4900 - start_node_8_categorical_accuracy: 0.9640 - next_nodes_8_categorical_accuracy: 0.4882 - start_node_9_categorical_accuracy: 0.9550 - next_nodes_9_categorical_accuracy: 0.4659 - val_loss: 21.2821 - val_start_node_0_loss: 0.5644 - val_next_nodes_0_loss: 2.5214 - val_start_node_1_loss: 0.3846 - val_next_nodes_1_loss: 2.0796 - val_start_node_2_loss: 0.2802 - val_next_nodes_2_loss: 1.8675 - val_start_node_3_loss: 0.2576 - val_next_nodes_3_loss: 1.7717 - val_start_node_4_loss: 0.2768 - val_next_nodes_4_loss: 1.7398 - val_start_node_5_loss: 0.3007 - val_next_nodes_5_loss: 1.6757 - val_start_node_6_loss: 0.2918 - val_next_nodes_6_loss: 1.6333 - val_start_node_7_loss: 0.2963 - val_next_nodes_7_loss: 1.5871 - val_start_node_8_loss: 0.3001 - val_next_nodes_8_loss: 1.5805 - val_start_node_9_loss: 0.3023 - val_next_nodes_9_loss: 1.5705 - val_start_node_0_categorical_accuracy: 1.0000 - val_next_nodes_0_categorical_accuracy: 0.3542 - val_start_node_1_categorical_accuracy: 1.0000 - val_next_nodes_1_categorical_accuracy: 0.4176 - val_start_node_2_categorical_accuracy: 1.0000 - val_next_nodes_2_categorical_accuracy: 0.4266 - val_start_node_3_categorical_accuracy: 1.0000 - val_next_nodes_3_categorical_accuracy: 0.3920 - val_start_node_4_categorical_accuracy: 1.0000 - val_next_nodes_4_categorical_accuracy: 0.4109 - val_start_node_5_categorical_accuracy: 1.0000 - val_next_nodes_5_categorical_accuracy: 0.4390 - val_start_node_6_categorical_accuracy: 1.0000 - val_next_nodes_6_categorical_accuracy: 0.4796 - val_start_node_7_categorical_accuracy: 1.0000 - val_next_nodes_7_categorical_accuracy: 0.4935 - val_start_node_8_categorical_accuracy: 1.0000 - val_next_nodes_8_categorical_accuracy: 0.5363 - val_start_node_9_categorical_accuracy: 1.0000 - val_next_nodes_9_categorical_accuracy: 0.5367\n",
      "Epoch 2/10\n",
      "1000/1000 [==============================] - 21s 21ms/step - loss: 13.4687 - start_node_0_loss: 0.2805 - next_nodes_0_loss: 1.6080 - start_node_1_loss: 0.2154 - next_nodes_1_loss: 1.3086 - start_node_2_loss: 0.1941 - next_nodes_2_loss: 1.1613 - start_node_3_loss: 0.1868 - next_nodes_3_loss: 1.0703 - start_node_4_loss: 0.1893 - next_nodes_4_loss: 1.0415 - start_node_5_loss: 0.1962 - next_nodes_5_loss: 1.0157 - start_node_6_loss: 0.1999 - next_nodes_6_loss: 1.0192 - start_node_7_loss: 0.2098 - next_nodes_7_loss: 1.0132 - start_node_8_loss: 0.2192 - next_nodes_8_loss: 1.0467 - start_node_9_loss: 0.2347 - next_nodes_9_loss: 1.0580 - start_node_0_categorical_accuracy: 1.0000 - next_nodes_0_categorical_accuracy: 0.6133 - start_node_1_categorical_accuracy: 1.0000 - next_nodes_1_categorical_accuracy: 0.6605 - start_node_2_categorical_accuracy: 1.0000 - next_nodes_2_categorical_accuracy: 0.6776 - start_node_3_categorical_accuracy: 1.0000 - next_nodes_3_categorical_accuracy: 0.6840 - start_node_4_categorical_accuracy: 0.9990 - next_nodes_4_categorical_accuracy: 0.7012 - start_node_5_categorical_accuracy: 1.0000 - next_nodes_5_categorical_accuracy: 0.6986 - start_node_6_categorical_accuracy: 0.9990 - next_nodes_6_categorical_accuracy: 0.7066 - start_node_7_categorical_accuracy: 0.9970 - next_nodes_7_categorical_accuracy: 0.7032 - start_node_8_categorical_accuracy: 0.9980 - next_nodes_8_categorical_accuracy: 0.7048 - start_node_9_categorical_accuracy: 0.9960 - next_nodes_9_categorical_accuracy: 0.6999 - val_loss: 17.6237 - val_start_node_0_loss: 0.5867 - val_next_nodes_0_loss: 2.2129 - val_start_node_1_loss: 0.3494 - val_next_nodes_1_loss: 1.5841 - val_start_node_2_loss: 0.2741 - val_next_nodes_2_loss: 1.5318 - val_start_node_3_loss: 0.2332 - val_next_nodes_3_loss: 1.4399 - val_start_node_4_loss: 0.2009 - val_next_nodes_4_loss: 1.3494 - val_start_node_5_loss: 0.1960 - val_next_nodes_5_loss: 1.3959 - val_start_node_6_loss: 0.1856 - val_next_nodes_6_loss: 1.3399 - val_start_node_7_loss: 0.1817 - val_next_nodes_7_loss: 1.3984 - val_start_node_8_loss: 0.1782 - val_next_nodes_8_loss: 1.3743 - val_start_node_9_loss: 0.1793 - val_next_nodes_9_loss: 1.4319 - val_start_node_0_categorical_accuracy: 1.0000 - val_next_nodes_0_categorical_accuracy: 0.2232 - val_start_node_1_categorical_accuracy: 1.0000 - val_next_nodes_1_categorical_accuracy: 0.4914 - val_start_node_2_categorical_accuracy: 1.0000 - val_next_nodes_2_categorical_accuracy: 0.4570 - val_start_node_3_categorical_accuracy: 1.0000 - val_next_nodes_3_categorical_accuracy: 0.5006 - val_start_node_4_categorical_accuracy: 1.0000 - val_next_nodes_4_categorical_accuracy: 0.5633 - val_start_node_5_categorical_accuracy: 1.0000 - val_next_nodes_5_categorical_accuracy: 0.5198 - val_start_node_6_categorical_accuracy: 1.0000 - val_next_nodes_6_categorical_accuracy: 0.5757 - val_start_node_7_categorical_accuracy: 1.0000 - val_next_nodes_7_categorical_accuracy: 0.5291 - val_start_node_8_categorical_accuracy: 1.0000 - val_next_nodes_8_categorical_accuracy: 0.5722 - val_start_node_9_categorical_accuracy: 1.0000 - val_next_nodes_9_categorical_accuracy: 0.5333\n",
      "Epoch 3/10\n",
      "1000/1000 [==============================] - 21s 21ms/step - loss: 10.2842 - start_node_0_loss: 0.1725 - next_nodes_0_loss: 1.2445 - start_node_1_loss: 0.1232 - next_nodes_1_loss: 0.9918 - start_node_2_loss: 0.1121 - next_nodes_2_loss: 0.9097 - start_node_3_loss: 0.1142 - next_nodes_3_loss: 0.8507 - start_node_4_loss: 0.1156 - next_nodes_4_loss: 0.8366 - start_node_5_loss: 0.1226 - next_nodes_5_loss: 0.8180 - start_node_6_loss: 0.1232 - next_nodes_6_loss: 0.8248 - start_node_7_loss: 0.1326 - next_nodes_7_loss: 0.8189 - start_node_8_loss: 0.1390 - next_nodes_8_loss: 0.8390 - start_node_9_loss: 0.1539 - next_nodes_9_loss: 0.8415 - start_node_0_categorical_accuracy: 1.0000 - next_nodes_0_categorical_accuracy: 0.6796 - start_node_1_categorical_accuracy: 1.0000 - next_nodes_1_categorical_accuracy: 0.7456 - start_node_2_categorical_accuracy: 1.0000 - next_nodes_2_categorical_accuracy: 0.7594 - start_node_3_categorical_accuracy: 1.0000 - next_nodes_3_categorical_accuracy: 0.7725 - start_node_4_categorical_accuracy: 1.0000 - next_nodes_4_categorical_accuracy: 0.7798 - start_node_5_categorical_accuracy: 0.9990 - next_nodes_5_categorical_accuracy: 0.7804 - start_node_6_categorical_accuracy: 0.9990 - next_nodes_6_categorical_accuracy: 0.7848 - start_node_7_categorical_accuracy: 0.9990 - next_nodes_7_categorical_accuracy: 0.7818 - start_node_8_categorical_accuracy: 0.9990 - next_nodes_8_categorical_accuracy: 0.7831 - start_node_9_categorical_accuracy: 0.9980 - next_nodes_9_categorical_accuracy: 0.7788 - val_loss: 17.6896 - val_start_node_0_loss: 0.5197 - val_next_nodes_0_loss: 1.5828 - val_start_node_1_loss: 0.4301 - val_next_nodes_1_loss: 1.3473 - val_start_node_2_loss: 0.4148 - val_next_nodes_2_loss: 1.3062 - val_start_node_3_loss: 0.4001 - val_next_nodes_3_loss: 1.3015 - val_start_node_4_loss: 0.3895 - val_next_nodes_4_loss: 1.2642 - val_start_node_5_loss: 0.4168 - val_next_nodes_5_loss: 1.2830 - val_start_node_6_loss: 0.4219 - val_next_nodes_6_loss: 1.2577 - val_start_node_7_loss: 0.4712 - val_next_nodes_7_loss: 1.2810 - val_start_node_8_loss: 0.4843 - val_next_nodes_8_loss: 1.2715 - val_start_node_9_loss: 0.5546 - val_next_nodes_9_loss: 1.2915 - val_start_node_0_categorical_accuracy: 1.0000 - val_next_nodes_0_categorical_accuracy: 0.4973 - val_start_node_1_categorical_accuracy: 1.0000 - val_next_nodes_1_categorical_accuracy: 0.5856 - val_start_node_2_categorical_accuracy: 1.0000 - val_next_nodes_2_categorical_accuracy: 0.5967 - val_start_node_3_categorical_accuracy: 1.0000 - val_next_nodes_3_categorical_accuracy: 0.5839 - val_start_node_4_categorical_accuracy: 1.0000 - val_next_nodes_4_categorical_accuracy: 0.6126 - val_start_node_5_categorical_accuracy: 1.0000 - val_next_nodes_5_categorical_accuracy: 0.5993 - val_start_node_6_categorical_accuracy: 1.0000 - val_next_nodes_6_categorical_accuracy: 0.6226 - val_start_node_7_categorical_accuracy: 1.0000 - val_next_nodes_7_categorical_accuracy: 0.6103 - val_start_node_8_categorical_accuracy: 1.0000 - val_next_nodes_8_categorical_accuracy: 0.6272 - val_start_node_9_categorical_accuracy: 1.0000 - val_next_nodes_9_categorical_accuracy: 0.6160\n",
      "Epoch 4/10\n",
      "1000/1000 [==============================] - 21s 21ms/step - loss: 9.1617 - start_node_0_loss: 0.1492 - next_nodes_0_loss: 1.0644 - start_node_1_loss: 0.1085 - next_nodes_1_loss: 0.8536 - start_node_2_loss: 0.1043 - next_nodes_2_loss: 0.7947 - start_node_3_loss: 0.1060 - next_nodes_3_loss: 0.7503 - start_node_4_loss: 0.1081 - next_nodes_4_loss: 0.7429 - start_node_5_loss: 0.1149 - next_nodes_5_loss: 0.7320 - start_node_6_loss: 0.1198 - next_nodes_6_loss: 0.7399 - start_node_7_loss: 0.1268 - next_nodes_7_loss: 0.7391 - start_node_8_loss: 0.1353 - next_nodes_8_loss: 0.7590 - start_node_9_loss: 0.1456 - next_nodes_9_loss: 0.7672 - start_node_0_categorical_accuracy: 1.0000 - next_nodes_0_categorical_accuracy: 0.7277 - start_node_1_categorical_accuracy: 1.0000 - next_nodes_1_categorical_accuracy: 0.7882 - start_node_2_categorical_accuracy: 1.0000 - next_nodes_2_categorical_accuracy: 0.8034 - start_node_3_categorical_accuracy: 1.0000 - next_nodes_3_categorical_accuracy: 0.8131 - start_node_4_categorical_accuracy: 1.0000 - next_nodes_4_categorical_accuracy: 0.8188 - start_node_5_categorical_accuracy: 1.0000 - next_nodes_5_categorical_accuracy: 0.8182 - start_node_6_categorical_accuracy: 1.0000 - next_nodes_6_categorical_accuracy: 0.8213 - start_node_7_categorical_accuracy: 1.0000 - next_nodes_7_categorical_accuracy: 0.8187 - start_node_8_categorical_accuracy: 0.9980 - next_nodes_8_categorical_accuracy: 0.8184 - start_node_9_categorical_accuracy: 1.0000 - next_nodes_9_categorical_accuracy: 0.8145 - val_loss: 14.2510 - val_start_node_0_loss: 0.1944 - val_next_nodes_0_loss: 1.5432 - val_start_node_1_loss: 0.1305 - val_next_nodes_1_loss: 1.3250 - val_start_node_2_loss: 0.1387 - val_next_nodes_2_loss: 1.1678 - val_start_node_3_loss: 0.1348 - val_next_nodes_3_loss: 1.1850 - val_start_node_4_loss: 0.1562 - val_next_nodes_4_loss: 1.1425 - val_start_node_5_loss: 0.1749 - val_next_nodes_5_loss: 1.1430 - val_start_node_6_loss: 0.2206 - val_next_nodes_6_loss: 1.1319 - val_start_node_7_loss: 0.2715 - val_next_nodes_7_loss: 1.1248 - val_start_node_8_loss: 0.3524 - val_next_nodes_8_loss: 1.1431 - val_start_node_9_loss: 0.4326 - val_next_nodes_9_loss: 1.1383 - val_start_node_0_categorical_accuracy: 1.0000 - val_next_nodes_0_categorical_accuracy: 0.5126 - val_start_node_1_categorical_accuracy: 1.0000 - val_next_nodes_1_categorical_accuracy: 0.6112 - val_start_node_2_categorical_accuracy: 1.0000 - val_next_nodes_2_categorical_accuracy: 0.7234 - val_start_node_3_categorical_accuracy: 1.0000 - val_next_nodes_3_categorical_accuracy: 0.6641 - val_start_node_4_categorical_accuracy: 1.0000 - val_next_nodes_4_categorical_accuracy: 0.6832 - val_start_node_5_categorical_accuracy: 1.0000 - val_next_nodes_5_categorical_accuracy: 0.6747 - val_start_node_6_categorical_accuracy: 1.0000 - val_next_nodes_6_categorical_accuracy: 0.6785 - val_start_node_7_categorical_accuracy: 1.0000 - val_next_nodes_7_categorical_accuracy: 0.6825 - val_start_node_8_categorical_accuracy: 1.0000 - val_next_nodes_8_categorical_accuracy: 0.6767 - val_start_node_9_categorical_accuracy: 1.0000 - val_next_nodes_9_categorical_accuracy: 0.6861\n",
      "Epoch 5/10\n",
      "1000/1000 [==============================] - 21s 21ms/step - loss: 8.1010 - start_node_0_loss: 0.1125 - next_nodes_0_loss: 0.9399 - start_node_1_loss: 0.0860 - next_nodes_1_loss: 0.7698 - start_node_2_loss: 0.0862 - next_nodes_2_loss: 0.7203 - start_node_3_loss: 0.0855 - next_nodes_3_loss: 0.6820 - start_node_4_loss: 0.0866 - next_nodes_4_loss: 0.6726 - start_node_5_loss: 0.0898 - next_nodes_5_loss: 0.6629 - start_node_6_loss: 0.0918 - next_nodes_6_loss: 0.6679 - start_node_7_loss: 0.0980 - next_nodes_7_loss: 0.6673 - start_node_8_loss: 0.1016 - next_nodes_8_loss: 0.6813 - start_node_9_loss: 0.1112 - next_nodes_9_loss: 0.6878 - start_node_0_categorical_accuracy: 1.0000 - next_nodes_0_categorical_accuracy: 0.7571 - start_node_1_categorical_accuracy: 1.0000 - next_nodes_1_categorical_accuracy: 0.8121 - start_node_2_categorical_accuracy: 1.0000 - next_nodes_2_categorical_accuracy: 0.8324 - start_node_3_categorical_accuracy: 1.0000 - next_nodes_3_categorical_accuracy: 0.8386 - start_node_4_categorical_accuracy: 1.0000 - next_nodes_4_categorical_accuracy: 0.8440 - start_node_5_categorical_accuracy: 1.0000 - next_nodes_5_categorical_accuracy: 0.8421 - start_node_6_categorical_accuracy: 1.0000 - next_nodes_6_categorical_accuracy: 0.8458 - start_node_7_categorical_accuracy: 1.0000 - next_nodes_7_categorical_accuracy: 0.8437 - start_node_8_categorical_accuracy: 1.0000 - next_nodes_8_categorical_accuracy: 0.8450 - start_node_9_categorical_accuracy: 1.0000 - next_nodes_9_categorical_accuracy: 0.8417 - val_loss: 12.9064 - val_start_node_0_loss: 0.2256 - val_next_nodes_0_loss: 1.3519 - val_start_node_1_loss: 0.1556 - val_next_nodes_1_loss: 1.2047 - val_start_node_2_loss: 0.1415 - val_next_nodes_2_loss: 1.1950 - val_start_node_3_loss: 0.1288 - val_next_nodes_3_loss: 1.1453 - val_start_node_4_loss: 0.1268 - val_next_nodes_4_loss: 1.1210 - val_start_node_5_loss: 0.1331 - val_next_nodes_5_loss: 1.1046 - val_start_node_6_loss: 0.1291 - val_next_nodes_6_loss: 1.1042 - val_start_node_7_loss: 0.1338 - val_next_nodes_7_loss: 1.0837 - val_start_node_8_loss: 0.1276 - val_next_nodes_8_loss: 1.0937 - val_start_node_9_loss: 0.1329 - val_next_nodes_9_loss: 1.0677 - val_start_node_0_categorical_accuracy: 1.0000 - val_next_nodes_0_categorical_accuracy: 0.5923 - val_start_node_1_categorical_accuracy: 1.0000 - val_next_nodes_1_categorical_accuracy: 0.6466 - val_start_node_2_categorical_accuracy: 1.0000 - val_next_nodes_2_categorical_accuracy: 0.6568 - val_start_node_3_categorical_accuracy: 1.0000 - val_next_nodes_3_categorical_accuracy: 0.6646 - val_start_node_4_categorical_accuracy: 1.0000 - val_next_nodes_4_categorical_accuracy: 0.6777 - val_start_node_5_categorical_accuracy: 1.0000 - val_next_nodes_5_categorical_accuracy: 0.6738 - val_start_node_6_categorical_accuracy: 1.0000 - val_next_nodes_6_categorical_accuracy: 0.6810 - val_start_node_7_categorical_accuracy: 1.0000 - val_next_nodes_7_categorical_accuracy: 0.6801 - val_start_node_8_categorical_accuracy: 1.0000 - val_next_nodes_8_categorical_accuracy: 0.6890 - val_start_node_9_categorical_accuracy: 1.0000 - val_next_nodes_9_categorical_accuracy: 0.6877\n",
      "Epoch 6/10\n",
      "1000/1000 [==============================] - 21s 21ms/step - loss: 7.7689 - start_node_0_loss: 0.1008 - next_nodes_0_loss: 0.8842 - start_node_1_loss: 0.0800 - next_nodes_1_loss: 0.7264 - start_node_2_loss: 0.0793 - next_nodes_2_loss: 0.6838 - start_node_3_loss: 0.0848 - next_nodes_3_loss: 0.6500 - start_node_4_loss: 0.0855 - next_nodes_4_loss: 0.6440 - start_node_5_loss: 0.0902 - next_nodes_5_loss: 0.6361 - start_node_6_loss: 0.0920 - next_nodes_6_loss: 0.6431 - start_node_7_loss: 0.0991 - next_nodes_7_loss: 0.6427 - start_node_8_loss: 0.1069 - next_nodes_8_loss: 0.6599 - start_node_9_loss: 0.1153 - next_nodes_9_loss: 0.6648 - start_node_0_categorical_accuracy: 1.0000 - next_nodes_0_categorical_accuracy: 0.7732 - start_node_1_categorical_accuracy: 1.0000 - next_nodes_1_categorical_accuracy: 0.8284 - start_node_2_categorical_accuracy: 1.0000 - next_nodes_2_categorical_accuracy: 0.8437 - start_node_3_categorical_accuracy: 0.9990 - next_nodes_3_categorical_accuracy: 0.8508 - start_node_4_categorical_accuracy: 0.9990 - next_nodes_4_categorical_accuracy: 0.8532 - start_node_5_categorical_accuracy: 0.9990 - next_nodes_5_categorical_accuracy: 0.8539 - start_node_6_categorical_accuracy: 0.9980 - next_nodes_6_categorical_accuracy: 0.8550 - start_node_7_categorical_accuracy: 0.9970 - next_nodes_7_categorical_accuracy: 0.8539 - start_node_8_categorical_accuracy: 0.9940 - next_nodes_8_categorical_accuracy: 0.8526 - start_node_9_categorical_accuracy: 0.9950 - next_nodes_9_categorical_accuracy: 0.8510 - val_loss: 11.2699 - val_start_node_0_loss: 0.2117 - val_next_nodes_0_loss: 1.2657 - val_start_node_1_loss: 0.1441 - val_next_nodes_1_loss: 1.1111 - val_start_node_2_loss: 0.1165 - val_next_nodes_2_loss: 1.0805 - val_start_node_3_loss: 0.1116 - val_next_nodes_3_loss: 0.9762 - val_start_node_4_loss: 0.1003 - val_next_nodes_4_loss: 0.9744 - val_start_node_5_loss: 0.1060 - val_next_nodes_5_loss: 0.9394 - val_start_node_6_loss: 0.0991 - val_next_nodes_6_loss: 0.9379 - val_start_node_7_loss: 0.1017 - val_next_nodes_7_loss: 0.9297 - val_start_node_8_loss: 0.0988 - val_next_nodes_8_loss: 0.9271 - val_start_node_9_loss: 0.1043 - val_next_nodes_9_loss: 0.9335 - val_start_node_0_categorical_accuracy: 1.0000 - val_next_nodes_0_categorical_accuracy: 0.6714 - val_start_node_1_categorical_accuracy: 1.0000 - val_next_nodes_1_categorical_accuracy: 0.7273 - val_start_node_2_categorical_accuracy: 1.0000 - val_next_nodes_2_categorical_accuracy: 0.7403 - val_start_node_3_categorical_accuracy: 1.0000 - val_next_nodes_3_categorical_accuracy: 0.7783 - val_start_node_4_categorical_accuracy: 1.0000 - val_next_nodes_4_categorical_accuracy: 0.7767 - val_start_node_5_categorical_accuracy: 1.0000 - val_next_nodes_5_categorical_accuracy: 0.7884 - val_start_node_6_categorical_accuracy: 1.0000 - val_next_nodes_6_categorical_accuracy: 0.7920 - val_start_node_7_categorical_accuracy: 1.0000 - val_next_nodes_7_categorical_accuracy: 0.7933 - val_start_node_8_categorical_accuracy: 1.0000 - val_next_nodes_8_categorical_accuracy: 0.7980 - val_start_node_9_categorical_accuracy: 1.0000 - val_next_nodes_9_categorical_accuracy: 0.7934\n",
      "Epoch 7/10\n",
      "1000/1000 [==============================] - 21s 21ms/step - loss: 7.4450 - start_node_0_loss: 0.0936 - next_nodes_0_loss: 0.8795 - start_node_1_loss: 0.0684 - next_nodes_1_loss: 0.7260 - start_node_2_loss: 0.0637 - next_nodes_2_loss: 0.6769 - start_node_3_loss: 0.0652 - next_nodes_3_loss: 0.6426 - start_node_4_loss: 0.0633 - next_nodes_4_loss: 0.6316 - start_node_5_loss: 0.0664 - next_nodes_5_loss: 0.6213 - start_node_6_loss: 0.0663 - next_nodes_6_loss: 0.6267 - start_node_7_loss: 0.0718 - next_nodes_7_loss: 0.6265 - start_node_8_loss: 0.0743 - next_nodes_8_loss: 0.6409 - start_node_9_loss: 0.0919 - next_nodes_9_loss: 0.6480 - start_node_0_categorical_accuracy: 1.0000 - next_nodes_0_categorical_accuracy: 0.7664 - start_node_1_categorical_accuracy: 1.0000 - next_nodes_1_categorical_accuracy: 0.8270 - start_node_2_categorical_accuracy: 0.9990 - next_nodes_2_categorical_accuracy: 0.8453 - start_node_3_categorical_accuracy: 0.9990 - next_nodes_3_categorical_accuracy: 0.8553 - start_node_4_categorical_accuracy: 1.0000 - next_nodes_4_categorical_accuracy: 0.8600 - start_node_5_categorical_accuracy: 1.0000 - next_nodes_5_categorical_accuracy: 0.8618 - start_node_6_categorical_accuracy: 1.0000 - next_nodes_6_categorical_accuracy: 0.8614 - start_node_7_categorical_accuracy: 1.0000 - next_nodes_7_categorical_accuracy: 0.8613 - start_node_8_categorical_accuracy: 1.0000 - next_nodes_8_categorical_accuracy: 0.8586 - start_node_9_categorical_accuracy: 0.9970 - next_nodes_9_categorical_accuracy: 0.8582 - val_loss: 12.0347 - val_start_node_0_loss: 0.2918 - val_next_nodes_0_loss: 1.2119 - val_start_node_1_loss: 0.2586 - val_next_nodes_1_loss: 0.9980 - val_start_node_2_loss: 0.2501 - val_next_nodes_2_loss: 0.9504 - val_start_node_3_loss: 0.2605 - val_next_nodes_3_loss: 0.8885 - val_start_node_4_loss: 0.2555 - val_next_nodes_4_loss: 0.8714 - val_start_node_5_loss: 0.2693 - val_next_nodes_5_loss: 0.8723 - val_start_node_6_loss: 0.2625 - val_next_nodes_6_loss: 0.8756 - val_start_node_7_loss: 0.2794 - val_next_nodes_7_loss: 0.8786 - val_start_node_8_loss: 0.2721 - val_next_nodes_8_loss: 0.8974 - val_start_node_9_loss: 0.2896 - val_next_nodes_9_loss: 0.9009 - val_start_node_0_categorical_accuracy: 1.0000 - val_next_nodes_0_categorical_accuracy: 0.7098 - val_start_node_1_categorical_accuracy: 1.0000 - val_next_nodes_1_categorical_accuracy: 0.8022 - val_start_node_2_categorical_accuracy: 1.0000 - val_next_nodes_2_categorical_accuracy: 0.7872 - val_start_node_3_categorical_accuracy: 1.0000 - val_next_nodes_3_categorical_accuracy: 0.8129 - val_start_node_4_categorical_accuracy: 1.0000 - val_next_nodes_4_categorical_accuracy: 0.8143 - val_start_node_5_categorical_accuracy: 1.0000 - val_next_nodes_5_categorical_accuracy: 0.8116 - val_start_node_6_categorical_accuracy: 1.0000 - val_next_nodes_6_categorical_accuracy: 0.8073 - val_start_node_7_categorical_accuracy: 1.0000 - val_next_nodes_7_categorical_accuracy: 0.8081 - val_start_node_8_categorical_accuracy: 1.0000 - val_next_nodes_8_categorical_accuracy: 0.7980 - val_start_node_9_categorical_accuracy: 1.0000 - val_next_nodes_9_categorical_accuracy: 0.8071\n",
      "Epoch 8/10\n",
      "1000/1000 [==============================] - 21s 21ms/step - loss: 6.8876 - start_node_0_loss: 0.0863 - next_nodes_0_loss: 0.7798 - start_node_1_loss: 0.0675 - next_nodes_1_loss: 0.6445 - start_node_2_loss: 0.0670 - next_nodes_2_loss: 0.6076 - start_node_3_loss: 0.0695 - next_nodes_3_loss: 0.5836 - start_node_4_loss: 0.0701 - next_nodes_4_loss: 0.5815 - start_node_5_loss: 0.0732 - next_nodes_5_loss: 0.5752 - start_node_6_loss: 0.0746 - next_nodes_6_loss: 0.5817 - start_node_7_loss: 0.0785 - next_nodes_7_loss: 0.5807 - start_node_8_loss: 0.0816 - next_nodes_8_loss: 0.5965 - start_node_9_loss: 0.0884 - next_nodes_9_loss: 0.5998 - start_node_0_categorical_accuracy: 1.0000 - next_nodes_0_categorical_accuracy: 0.8122 - start_node_1_categorical_accuracy: 1.0000 - next_nodes_1_categorical_accuracy: 0.8642 - start_node_2_categorical_accuracy: 1.0000 - next_nodes_2_categorical_accuracy: 0.8704 - start_node_3_categorical_accuracy: 1.0000 - next_nodes_3_categorical_accuracy: 0.8765 - start_node_4_categorical_accuracy: 1.0000 - next_nodes_4_categorical_accuracy: 0.8775 - start_node_5_categorical_accuracy: 1.0000 - next_nodes_5_categorical_accuracy: 0.8782 - start_node_6_categorical_accuracy: 0.9990 - next_nodes_6_categorical_accuracy: 0.8772 - start_node_7_categorical_accuracy: 1.0000 - next_nodes_7_categorical_accuracy: 0.8771 - start_node_8_categorical_accuracy: 0.9980 - next_nodes_8_categorical_accuracy: 0.8751 - start_node_9_categorical_accuracy: 0.9990 - next_nodes_9_categorical_accuracy: 0.8745 - val_loss: 11.3002 - val_start_node_0_loss: 0.2329 - val_next_nodes_0_loss: 1.2461 - val_start_node_1_loss: 0.1670 - val_next_nodes_1_loss: 1.0023 - val_start_node_2_loss: 0.1528 - val_next_nodes_2_loss: 0.9492 - val_start_node_3_loss: 0.1442 - val_next_nodes_3_loss: 0.8987 - val_start_node_4_loss: 0.1642 - val_next_nodes_4_loss: 0.8908 - val_start_node_5_loss: 0.1767 - val_next_nodes_5_loss: 0.8828 - val_start_node_6_loss: 0.1871 - val_next_nodes_6_loss: 0.8767 - val_start_node_7_loss: 0.2111 - val_next_nodes_7_loss: 0.8799 - val_start_node_8_loss: 0.2197 - val_next_nodes_8_loss: 0.8773 - val_start_node_9_loss: 0.2539 - val_next_nodes_9_loss: 0.8867 - val_start_node_0_categorical_accuracy: 1.0000 - val_next_nodes_0_categorical_accuracy: 0.6172 - val_start_node_1_categorical_accuracy: 1.0000 - val_next_nodes_1_categorical_accuracy: 0.7436 - val_start_node_2_categorical_accuracy: 1.0000 - val_next_nodes_2_categorical_accuracy: 0.7673 - val_start_node_3_categorical_accuracy: 1.0000 - val_next_nodes_3_categorical_accuracy: 0.7949 - val_start_node_4_categorical_accuracy: 1.0000 - val_next_nodes_4_categorical_accuracy: 0.7951 - val_start_node_5_categorical_accuracy: 1.0000 - val_next_nodes_5_categorical_accuracy: 0.8040 - val_start_node_6_categorical_accuracy: 1.0000 - val_next_nodes_6_categorical_accuracy: 0.7964 - val_start_node_7_categorical_accuracy: 1.0000 - val_next_nodes_7_categorical_accuracy: 0.8095 - val_start_node_8_categorical_accuracy: 1.0000 - val_next_nodes_8_categorical_accuracy: 0.8004 - val_start_node_9_categorical_accuracy: 1.0000 - val_next_nodes_9_categorical_accuracy: 0.8124\n",
      "Epoch 9/10\n",
      "1000/1000 [==============================] - 22s 22ms/step - loss: 6.4560 - start_node_0_loss: 0.0612 - next_nodes_0_loss: 0.7461 - start_node_1_loss: 0.0508 - next_nodes_1_loss: 0.6129 - start_node_2_loss: 0.0472 - next_nodes_2_loss: 0.5823 - start_node_3_loss: 0.0534 - next_nodes_3_loss: 0.5633 - start_node_4_loss: 0.0509 - next_nodes_4_loss: 0.5592 - start_node_5_loss: 0.0550 - next_nodes_5_loss: 0.5547 - start_node_6_loss: 0.0569 - next_nodes_6_loss: 0.5587 - start_node_7_loss: 0.0619 - next_nodes_7_loss: 0.5594 - start_node_8_loss: 0.0656 - next_nodes_8_loss: 0.5701 - start_node_9_loss: 0.0716 - next_nodes_9_loss: 0.5749 - start_node_0_categorical_accuracy: 1.0000 - next_nodes_0_categorical_accuracy: 0.8123 - start_node_1_categorical_accuracy: 0.9990 - next_nodes_1_categorical_accuracy: 0.8679 - start_node_2_categorical_accuracy: 1.0000 - next_nodes_2_categorical_accuracy: 0.8779 - start_node_3_categorical_accuracy: 0.9990 - next_nodes_3_categorical_accuracy: 0.8830 - start_node_4_categorical_accuracy: 1.0000 - next_nodes_4_categorical_accuracy: 0.8843 - start_node_5_categorical_accuracy: 1.0000 - next_nodes_5_categorical_accuracy: 0.8847 - start_node_6_categorical_accuracy: 1.0000 - next_nodes_6_categorical_accuracy: 0.8847 - start_node_7_categorical_accuracy: 1.0000 - next_nodes_7_categorical_accuracy: 0.8839 - start_node_8_categorical_accuracy: 1.0000 - next_nodes_8_categorical_accuracy: 0.8830 - start_node_9_categorical_accuracy: 1.0000 - next_nodes_9_categorical_accuracy: 0.8820 - val_loss: 10.7008 - val_start_node_0_loss: 0.1587 - val_next_nodes_0_loss: 1.1385 - val_start_node_1_loss: 0.1257 - val_next_nodes_1_loss: 0.9201 - val_start_node_2_loss: 0.1297 - val_next_nodes_2_loss: 0.9080 - val_start_node_3_loss: 0.1276 - val_next_nodes_3_loss: 0.9183 - val_start_node_4_loss: 0.1387 - val_next_nodes_4_loss: 0.8769 - val_start_node_5_loss: 0.1425 - val_next_nodes_5_loss: 0.8965 - val_start_node_6_loss: 0.1577 - val_next_nodes_6_loss: 0.8664 - val_start_node_7_loss: 0.1778 - val_next_nodes_7_loss: 0.8784 - val_start_node_8_loss: 0.1891 - val_next_nodes_8_loss: 0.8545 - val_start_node_9_loss: 0.2269 - val_next_nodes_9_loss: 0.8690 - val_start_node_0_categorical_accuracy: 1.0000 - val_next_nodes_0_categorical_accuracy: 0.6553 - val_start_node_1_categorical_accuracy: 1.0000 - val_next_nodes_1_categorical_accuracy: 0.7629 - val_start_node_2_categorical_accuracy: 1.0000 - val_next_nodes_2_categorical_accuracy: 0.7854 - val_start_node_3_categorical_accuracy: 1.0000 - val_next_nodes_3_categorical_accuracy: 0.7694 - val_start_node_4_categorical_accuracy: 1.0000 - val_next_nodes_4_categorical_accuracy: 0.7928 - val_start_node_5_categorical_accuracy: 1.0000 - val_next_nodes_5_categorical_accuracy: 0.7756 - val_start_node_6_categorical_accuracy: 1.0000 - val_next_nodes_6_categorical_accuracy: 0.7987 - val_start_node_7_categorical_accuracy: 1.0000 - val_next_nodes_7_categorical_accuracy: 0.7812 - val_start_node_8_categorical_accuracy: 1.0000 - val_next_nodes_8_categorical_accuracy: 0.8015 - val_start_node_9_categorical_accuracy: 1.0000 - val_next_nodes_9_categorical_accuracy: 0.7877\n",
      "Epoch 10/10\n",
      "1000/1000 [==============================] - 22s 22ms/step - loss: 6.5339 - start_node_0_loss: 0.0752 - next_nodes_0_loss: 0.7240 - start_node_1_loss: 0.0646 - next_nodes_1_loss: 0.5935 - start_node_2_loss: 0.0625 - next_nodes_2_loss: 0.5672 - start_node_3_loss: 0.0636 - next_nodes_3_loss: 0.5493 - start_node_4_loss: 0.0648 - next_nodes_4_loss: 0.5483 - start_node_5_loss: 0.0687 - next_nodes_5_loss: 0.5481 - start_node_6_loss: 0.0714 - next_nodes_6_loss: 0.5553 - start_node_7_loss: 0.0794 - next_nodes_7_loss: 0.5586 - start_node_8_loss: 0.0875 - next_nodes_8_loss: 0.5694 - start_node_9_loss: 0.1076 - next_nodes_9_loss: 0.5749 - start_node_0_categorical_accuracy: 0.9990 - next_nodes_0_categorical_accuracy: 0.8216 - start_node_1_categorical_accuracy: 1.0000 - next_nodes_1_categorical_accuracy: 0.8708 - start_node_2_categorical_accuracy: 1.0000 - next_nodes_2_categorical_accuracy: 0.8819 - start_node_3_categorical_accuracy: 1.0000 - next_nodes_3_categorical_accuracy: 0.8869 - start_node_4_categorical_accuracy: 1.0000 - next_nodes_4_categorical_accuracy: 0.8885 - start_node_5_categorical_accuracy: 1.0000 - next_nodes_5_categorical_accuracy: 0.8873 - start_node_6_categorical_accuracy: 1.0000 - next_nodes_6_categorical_accuracy: 0.8886 - start_node_7_categorical_accuracy: 1.0000 - next_nodes_7_categorical_accuracy: 0.8858 - start_node_8_categorical_accuracy: 0.9960 - next_nodes_8_categorical_accuracy: 0.8862 - start_node_9_categorical_accuracy: 0.9940 - next_nodes_9_categorical_accuracy: 0.8830 - val_loss: 9.3220 - val_start_node_0_loss: 0.0840 - val_next_nodes_0_loss: 1.0262 - val_start_node_1_loss: 0.0556 - val_next_nodes_1_loss: 0.8928 - val_start_node_2_loss: 0.0535 - val_next_nodes_2_loss: 0.8974 - val_start_node_3_loss: 0.0510 - val_next_nodes_3_loss: 0.8690 - val_start_node_4_loss: 0.0500 - val_next_nodes_4_loss: 0.8551 - val_start_node_5_loss: 0.0497 - val_next_nodes_5_loss: 0.8487 - val_start_node_6_loss: 0.0520 - val_next_nodes_6_loss: 0.8405 - val_start_node_7_loss: 0.0540 - val_next_nodes_7_loss: 0.8411 - val_start_node_8_loss: 0.0576 - val_next_nodes_8_loss: 0.8393 - val_start_node_9_loss: 0.0610 - val_next_nodes_9_loss: 0.8435 - val_start_node_0_categorical_accuracy: 1.0000 - val_next_nodes_0_categorical_accuracy: 0.7011 - val_start_node_1_categorical_accuracy: 1.0000 - val_next_nodes_1_categorical_accuracy: 0.7922 - val_start_node_2_categorical_accuracy: 1.0000 - val_next_nodes_2_categorical_accuracy: 0.7848 - val_start_node_3_categorical_accuracy: 1.0000 - val_next_nodes_3_categorical_accuracy: 0.7995 - val_start_node_4_categorical_accuracy: 1.0000 - val_next_nodes_4_categorical_accuracy: 0.8006 - val_start_node_5_categorical_accuracy: 1.0000 - val_next_nodes_5_categorical_accuracy: 0.8052 - val_start_node_6_categorical_accuracy: 1.0000 - val_next_nodes_6_categorical_accuracy: 0.8068 - val_start_node_7_categorical_accuracy: 1.0000 - val_next_nodes_7_categorical_accuracy: 0.8060 - val_start_node_8_categorical_accuracy: 1.0000 - val_next_nodes_8_categorical_accuracy: 0.8059 - val_start_node_9_categorical_accuracy: 1.0000 - val_next_nodes_9_categorical_accuracy: 0.8052\n"
     ]
    }
   ],
   "source": [
    "config = {\n",
    "    \"message_passing_iterations\" : 10,\n",
    "    \"latent_dim\" : 32\n",
    "}\n",
    "\n",
    "NUM_EPOCHS = 10\n",
    "\n",
    "train_gen = SampleGenerator(NUM_NODES_TRAIN, 1000, reps=config[\"message_passing_iterations\"])\n",
    "val_gen = SampleGenerator(NUM_NODES_VAL, 50, reps=config[\"message_passing_iterations\"])\n",
    "\n",
    "GNN = make_GNN(config)\n",
    "\n",
    "optimizer = tf.keras.optimizers.Adam(learning_rate = 1e-3)\n",
    "\n",
    "def make_dict(s):\n",
    "    d = {\"start_node_\"+str(i) : s for i in range(config[\"message_passing_iterations\"])}\n",
    "    d.update({\"next_nodes_\"+str(i) : s for i in range(config[\"message_passing_iterations\"])})\n",
    "    return d\n",
    "\n",
    "GNN.compile(loss=make_dict(\"categorical_crossentropy\"), \n",
    "            optimizer=optimizer, \n",
    "            metrics=make_dict(\"categorical_accuracy\"))\n",
    "\n",
    "#takes ~2min on GPU\n",
    "#note that this is unneccessarily long since we don't use batching\n",
    "#to keep the code simple\n",
    "history = GNN.fit(train_gen,\n",
    "                    validation_data=val_gen,\n",
    "                    epochs = NUM_EPOCHS,\n",
    "                    verbose = 1)"
   ]
  },
  {
   "cell_type": "code",
   "execution_count": 74,
   "id": "knowing-scene",
   "metadata": {},
   "outputs": [
    {
     "data": {
      "image/png": "[encoded data removed]",
      "text/plain": [
       "<Figure size 288x288 with 1 Axes>"
      ]
     },
     "metadata": {
      "needs_background": "light"
     },
     "output_type": "display_data"
    }
   ],
   "source": [
    "input_graph, _, sort_indices = make_example((30,31))\n",
    "fig = plt.figure(1, figsize=(4, 4))\n",
    "ax = fig.add_subplot()\n",
    "outputs = GNN(input_graph)\n",
    "start_node_probs = outputs[-2]\n",
    "next_node_probs = outputs[-1]\n",
    "plot_numbers(ax, next_node_probs.numpy(), sort_indices)"
   ]
  },
  {
   "cell_type": "markdown",
   "id": "ecological-panic",
   "metadata": {},
   "source": [
    "### Decode a sorted list\n",
    "\n",
    "Start at the predicted start node. Greedily follow to the next unvisited node with highest probabilty."
   ]
  },
  {
   "cell_type": "code",
   "execution_count": 75,
   "id": "primary-interpretation",
   "metadata": {},
   "outputs": [
    {
     "name": "stdout",
     "output_type": "stream",
     "text": [
      "unsorted numbers: [0.73343555 0.05988783 0.87401559 0.77428936 0.82020428 0.18575183\n",
      " 0.98489278 0.5821443  0.30655624 0.52348126 0.62491759 0.24600695\n",
      " 0.95245014 0.79341356 0.86918849 0.04845021 0.38020993 0.44909644\n",
      " 0.425384   0.89659392 0.23704198 0.48062462 0.55263588 0.23986829\n",
      " 0.94677253 0.09989316 0.61327113 0.22818096 0.9071074  0.26465704]\n",
      "sorted numbers: [0.04845021 0.05988783 0.09989316 0.18575183 0.22818096 0.23704198\n",
      " 0.23986829 0.24600695 0.26465704 0.30655624 0.38020993 0.425384\n",
      " 0.44909644 0.48062462 0.52348126 0.55263588 0.5821443  0.61327113\n",
      " 0.62491759 0.73343555 0.77428936 0.79341356 0.82020428 0.86918849\n",
      " 0.87401559 0.89659392 0.9071074  0.94677253 0.95245014 0.98489278]\n"
     ]
    }
   ],
   "source": [
    "def decode_sorting(numbers, start_node_probs, next_node_probs):\n",
    "    print(\"unsorted numbers:\", numbers)\n",
    "    start = np.argmax(start_node_probs)\n",
    "    sort_indices = [start]\n",
    "    unvisited = np.ones(len(numbers))\n",
    "    unvisited[start] = 0\n",
    "    current_node = start\n",
    "    for i in range(len(numbers)-1):\n",
    "        probs = unvisited * next_node_probs[current_node]\n",
    "        current_node = np.argmax(probs)\n",
    "        unvisited[current_node] = 0\n",
    "        sort_indices.append(current_node)\n",
    "    print(\"sorted numbers:\", numbers[sort_indices])\n",
    "\n",
    "decode_sorting(input_graph[\"nodes\"], start_node_probs, next_node_probs)"
   ]
  },
  {
   "cell_type": "markdown",
   "id": "initial-faculty",
   "metadata": {},
   "source": [
    "General lists of any real numbers can be handled by rescaling to $[0,1]$"
   ]
  },
  {
   "cell_type": "code",
   "execution_count": 77,
   "id": "religious-entertainment",
   "metadata": {},
   "outputs": [
    {
     "data": {
      "image/png": "[encoded data removed]",
      "text/plain": [
       "<Figure size 1080x576 with 10 Axes>"
      ]
     },
     "metadata": {
      "needs_background": "light"
     },
     "output_type": "display_data"
    }
   ],
   "source": [
    "# sorting over time: A visualization of each iteration\n",
    "ncols = 5\n",
    "nrows = int(np.ceil(config[\"message_passing_iterations\"]/ncols))\n",
    "\n",
    "fig = plt.figure(1, figsize=(15, 8))\n",
    "for i in range(config[\"message_passing_iterations\"]):\n",
    "    ax = fig.add_subplot(nrows, ncols, i+1)\n",
    "    ax.set_title(\"iteration \"+str(i+1))\n",
    "    start_node_probs = outputs[2*i]\n",
    "    next_node_probs = outputs[2*i+1]\n",
    "    plot_numbers(ax, next_node_probs.numpy(), sort_indices)"
   ]
  },
  {
   "cell_type": "code",
   "execution_count": null,
   "id": "registered-jumping",
   "metadata": {},
   "outputs": [],
   "source": []
  }
 ],
 "metadata": {
  "kernelspec": {
   "display_name": "Python 3",
   "language": "python",
   "name": "python3"
  },
  "language_info": {
   "codemirror_mode": {
    "name": "ipython",
    "version": 3
   },
   "file_extension": ".py",
   "mimetype": "text/x-python",
   "name": "python",
   "nbconvert_exporter": "python",
   "pygments_lexer": "ipython3",
   "version": "3.8.6"
  }
 },
 "nbformat": 4,
 "nbformat_minor": 5
}
