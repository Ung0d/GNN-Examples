{
 "cells": [
  {
   "cell_type": "markdown",
   "id": "waiting-northern",
   "metadata": {},
   "source": [
    "## Sort a list using a neural network\n",
    "\n",
    "Input: A list of numbers.\n",
    "\n",
    "Output: A sorted list of the same numbers.\n",
    "\n",
    "Treat the list as a fully connected directed graph where each node represents a number.\n",
    "Use binary labels on the edges to encode a sorted path from the smallest to the largest number, i.e. the network should predict a starting node and the links to the next elements in a sorted linked list."
   ]
  },
  {
   "cell_type": "code",
   "execution_count": 1,
   "id": "basic-fiction",
   "metadata": {},
   "outputs": [],
   "source": [
    "import numpy as np\n",
    "import tensorflow as tf\n",
    "from tensorflow import keras\n",
    "from tensorflow.keras import layers\n",
    "import matplotlib.pyplot as plt"
   ]
  },
  {
   "cell_type": "code",
   "execution_count": 21,
   "id": "another-printing",
   "metadata": {},
   "outputs": [
    {
     "name": "stdout",
     "output_type": "stream",
     "text": [
      "inputs: {'nodes': array([0.9954747 , 0.19633869, 0.74219906, 0.26312504, 0.79240632,\n",
      "       0.61373669, 0.90991295])}\n",
      "targets: {'start_node': array([0., 1., 0., 0., 0., 0., 0.]), 'next_nodes': array([[0., 1., 0., 0., 0., 0., 0.],\n",
      "       [0., 0., 0., 1., 0., 0., 0.],\n",
      "       [0., 0., 0., 0., 1., 0., 0.],\n",
      "       [0., 0., 0., 0., 0., 1., 0.],\n",
      "       [0., 0., 0., 0., 0., 0., 1.],\n",
      "       [0., 0., 1., 0., 0., 0., 0.],\n",
      "       [1., 0., 0., 0., 0., 0., 0.]])}\n",
      "sort indices: [1 3 5 2 4 6 0]\n"
     ]
    }
   ],
   "source": [
    "def make_example(min_max):\n",
    "    num_elements = np.random.randint(min_max[0], min_max[1])\n",
    "    values = np.random.rand(num_elements)\n",
    "    sort_indices = np.argsort(values, axis=-1)\n",
    "    smallest = np.eye(num_elements)[sort_indices[0]]\n",
    "    links = np.zeros((num_elements, num_elements))\n",
    "    links[sort_indices[:-1], sort_indices[1:]] = 1\n",
    "    links[sort_indices[-1], sort_indices[0]] = 1\n",
    "    input_graph = {\"nodes\" : values}\n",
    "    target_graph = {\"start_node\" : smallest,\n",
    "                   \"next_nodes\" : links}\n",
    "    return input_graph, target_graph, sort_indices\n",
    "\n",
    "input_graph, target_graph, sort_indices = make_example((7,8))\n",
    "print(\"inputs:\",input_graph)\n",
    "print(\"targets:\",target_graph)\n",
    "print(\"sort indices:\",sort_indices)"
   ]
  },
  {
   "cell_type": "code",
   "execution_count": 23,
   "id": "scenic-least",
   "metadata": {},
   "outputs": [
    {
     "data": {
      "text/plain": [
       "array([[0., 1., 0., 0., 0., 0., 0.],\n",
       "       [0., 0., 0., 1., 0., 0., 0.],\n",
       "       [0., 0., 0., 0., 1., 0., 0.],\n",
       "       [0., 0., 0., 0., 0., 1., 0.],\n",
       "       [0., 0., 0., 0., 0., 0., 1.],\n",
       "       [0., 0., 1., 0., 0., 0., 0.],\n",
       "       [1., 0., 0., 0., 0., 0., 0.]])"
      ]
     },
     "execution_count": 23,
     "metadata": {},
     "output_type": "execute_result"
    },
    {
     "data": {
      "image/png": "[encoded data removed]",
      "text/plain": [
       "<Figure size 288x288 with 1 Axes>"
      ]
     },
     "metadata": {
      "needs_background": "light"
     },
     "output_type": "display_data"
    }
   ],
   "source": [
    "def plot_numbers(ax, next_nodes, sort_indices):\n",
    "    ax.matshow(next_nodes[sort_indices][:, sort_indices], cmap=\"viridis\")\n",
    "    ax.grid(False)\n",
    "    \n",
    "fig = plt.figure(1, figsize=(4, 4))\n",
    "ax = fig.add_subplot()\n",
    "plot_numbers(ax, target_graph[\"next_nodes\"], sort_indices)"
   ]
  },
  {
   "cell_type": "code",
   "execution_count": 41,
   "id": "proud-minute",
   "metadata": {},
   "outputs": [],
   "source": [
    "NUM_NODES_TRAIN = (100,150)\n",
    "NUM_NODES_VAL = (250,300)\n",
    "\n",
    "class SampleGenerator(keras.utils.Sequence):\n",
    "\n",
    "    def __init__(self, num_minmax, epoch_len):\n",
    "        self.num_minmax = num_minmax\n",
    "        self.epoch_len = epoch_len\n",
    "\n",
    "    def __len__(self):\n",
    "        return self.epoch_len #number of gradient descent steps per epoch\n",
    "\n",
    "    def __getitem__(self, _index):\n",
    "        inp, tar, _ = make_example(self.num_minmax)\n",
    "        return inp, tar\n",
    "    \n",
    "\n",
    "train_gen = SampleGenerator(NUM_NODES_TRAIN, 1000)\n",
    "val_gen = SampleGenerator(NUM_NODES_VAL, 50)"
   ]
  },
  {
   "cell_type": "markdown",
   "id": "assisted-mediterranean",
   "metadata": {},
   "source": [
    "Define a model. We only have node inputs which are the numbers to sort. For each node, we want to predict the probability of being the \"start\" node (i.e. the node with the smallest number). For each edge we want to predict successor in a sorted linked list. We use a very simple GNN with only node states. Edge predictions are done on pairs of node states. \n",
    "\n",
    "We don't use global attributes for in- and output."
   ]
  },
  {
   "cell_type": "code",
   "execution_count": 42,
   "id": "cooked-muslim",
   "metadata": {},
   "outputs": [],
   "source": [
    "#a feedforward layer\n",
    "def make_ff_layer(config):\n",
    "    return keras.Sequential([\n",
    "            layers.Dense(config[\"latent_dim\"], activation=\"relu\"),\n",
    "            layers.Dense(config[\"latent_dim\"]),\n",
    "            layers.LayerNormalization()])\n",
    "\n",
    "def make_GNN(config):\n",
    "    \n",
    "    #define the inputs\n",
    "    #note: keras inputs have their batch size omitted in \"shape\"\n",
    "    V = keras.Input(shape=(1), name=\"nodes\") \n",
    "    \n",
    "    n = tf.shape(V)[0]\n",
    "    \n",
    "    #step 1: encode\n",
    "    #transform each node (dim=3) and edge (dim=1) to a latent embedding of \"latent_dim\"\n",
    "    node_encoder = make_ff_layer(config)\n",
    "    V_enc = node_encoder(V)\n",
    "    \n",
    "    #step 2: message passing\n",
    "    node_messager = make_ff_layer(config)\n",
    "    node_updater = make_ff_layer(config)\n",
    "    for _ in range(config[\"message_passing_iterations\"]):\n",
    "        \n",
    "        #the graph is fully connected, i.e. each node sends \n",
    "        #to all other nodes except itself \n",
    "        V_message = node_messager(V_enc)\n",
    "        V_message = (tf.reduce_sum(V_message, axis=0, keepdims=True) - V_message) \n",
    "        V_message /= tf.cast(n-1, dtype=V_message.dtype)\n",
    "        \n",
    "        #update all nodes based on current state and aggregated edge states\n",
    "        V_concat = tf.concat([V_enc, V_message], axis=-1)\n",
    "        V_enc = node_updater(V_concat)\n",
    "        \n",
    "    #step 3: decode\n",
    "    \n",
    "    #layers\n",
    "    node_decoder = layers.Dense(1)\n",
    "    edge_decoder = keras.Sequential([\n",
    "            layers.Dense(config[\"latent_dim\"], activation=\"relu\"),\n",
    "            layers.Dense(1)])\n",
    "    \n",
    "    #in this case, we need node and edge predictions\n",
    "    #for nodes, use the refined embeddings from message passing above:\n",
    "    start_node_probs = node_decoder(V_enc)\n",
    "    #remove \"1\" dimensions\n",
    "    start_node_probs = tf.squeeze(start_node_probs)\n",
    "    #decide for one start node\n",
    "    start_node_probs = tf.nn.softmax(start_node_probs) \n",
    "    \n",
    "    #for edges, use the respective pair of node embeddings (we did not use explicit edge embeddings)\n",
    "    #organize edges as follows:\n",
    "    #<n edges from v_1>, <n edges from v_2>, ..., <n edges from v_n>\n",
    "    #we do not exclude self loops for simplicity\n",
    "    V_tile = tf.tile(V_enc, [n,1]) #abc -> (abc abc ... abc) \n",
    "    V_rep = tf.repeat(V_enc, tf.ones(n,dtype=tf.int32)*n, axis=0) #abc -> (aa..a  bb..b  cc..c) \n",
    "    next_node_probs = edge_decoder(tf.concat([V_tile, V_rep], axis=-1))\n",
    "    next_node_probs = tf.reshape(next_node_probs, (n,n))\n",
    "    #for each node, decide for one \"next\" node\n",
    "    #for conveniece, we define \"start\" to follow \"end\" to have a cycle\n",
    "    next_node_probs = tf.nn.softmax(next_node_probs)\n",
    "    \n",
    "    model = keras.Model(inputs=[V], \n",
    "                        outputs=[layers.Lambda(lambda x: x, name=\"start_node\")(start_node_probs),\n",
    "                                layers.Lambda(lambda x: x, name=\"next_nodes\")(next_node_probs)])\n",
    "\n",
    "    return model    "
   ]
  },
  {
   "cell_type": "code",
   "execution_count": 44,
   "id": "serial-sierra",
   "metadata": {},
   "outputs": [
    {
     "name": "stdout",
     "output_type": "stream",
     "text": [
      "Epoch 1/20\n",
      "1000/1000 [==============================] - 7s 7ms/step - loss: 5.2243 - start_node_loss: 1.1372 - next_nodes_loss: 4.0870 - start_node_categorical_accuracy: 0.8270 - next_nodes_categorical_accuracy: 0.1359 - val_loss: 4.5623 - val_start_node_loss: 1.3491 - val_next_nodes_loss: 3.2131 - val_start_node_categorical_accuracy: 0.3800 - val_next_nodes_categorical_accuracy: 0.2658\n",
      "Epoch 2/20\n",
      "1000/1000 [==============================] - 7s 7ms/step - loss: 2.5028 - start_node_loss: 0.3650 - next_nodes_loss: 2.1378 - start_node_categorical_accuracy: 0.9800 - next_nodes_categorical_accuracy: 0.4389 - val_loss: 2.9392 - val_start_node_loss: 0.4544 - val_next_nodes_loss: 2.4848 - val_start_node_categorical_accuracy: 1.0000 - val_next_nodes_categorical_accuracy: 0.2946\n",
      "Epoch 3/20\n",
      "1000/1000 [==============================] - 7s 7ms/step - loss: 1.9618 - start_node_loss: 0.2408 - next_nodes_loss: 1.7210 - start_node_categorical_accuracy: 0.9940 - next_nodes_categorical_accuracy: 0.4693 - val_loss: 2.5724 - val_start_node_loss: 0.2997 - val_next_nodes_loss: 2.2726 - val_start_node_categorical_accuracy: 1.0000 - val_next_nodes_categorical_accuracy: 0.2248\n",
      "Epoch 4/20\n",
      "1000/1000 [==============================] - 7s 7ms/step - loss: 1.8095 - start_node_loss: 0.2270 - next_nodes_loss: 1.5825 - start_node_categorical_accuracy: 0.9960 - next_nodes_categorical_accuracy: 0.4775 - val_loss: 2.4724 - val_start_node_loss: 0.3915 - val_next_nodes_loss: 2.0809 - val_start_node_categorical_accuracy: 1.0000 - val_next_nodes_categorical_accuracy: 0.3215\n",
      "Epoch 5/20\n",
      "1000/1000 [==============================] - 7s 7ms/step - loss: 1.6577 - start_node_loss: 0.1840 - next_nodes_loss: 1.4736 - start_node_categorical_accuracy: 1.0000 - next_nodes_categorical_accuracy: 0.5047 - val_loss: 2.3277 - val_start_node_loss: 0.2481 - val_next_nodes_loss: 2.0796 - val_start_node_categorical_accuracy: 1.0000 - val_next_nodes_categorical_accuracy: 0.2746\n",
      "Epoch 6/20\n",
      "1000/1000 [==============================] - 7s 7ms/step - loss: 1.5119 - start_node_loss: 0.1220 - next_nodes_loss: 1.3899 - start_node_categorical_accuracy: 0.9970 - next_nodes_categorical_accuracy: 0.5292 - val_loss: 2.0490 - val_start_node_loss: 0.1424 - val_next_nodes_loss: 1.9066 - val_start_node_categorical_accuracy: 1.0000 - val_next_nodes_categorical_accuracy: 0.3284\n",
      "Epoch 7/20\n",
      "1000/1000 [==============================] - 7s 7ms/step - loss: 1.5215 - start_node_loss: 0.1489 - next_nodes_loss: 1.3726 - start_node_categorical_accuracy: 0.9940 - next_nodes_categorical_accuracy: 0.5401 - val_loss: 2.0168 - val_start_node_loss: 0.1419 - val_next_nodes_loss: 1.8749 - val_start_node_categorical_accuracy: 1.0000 - val_next_nodes_categorical_accuracy: 0.3543\n",
      "Epoch 8/20\n",
      "1000/1000 [==============================] - 7s 7ms/step - loss: 1.4213 - start_node_loss: 0.1068 - next_nodes_loss: 1.3145 - start_node_categorical_accuracy: 0.9990 - next_nodes_categorical_accuracy: 0.5624 - val_loss: 1.9110 - val_start_node_loss: 0.1810 - val_next_nodes_loss: 1.7299 - val_start_node_categorical_accuracy: 1.0000 - val_next_nodes_categorical_accuracy: 0.4337\n",
      "Epoch 9/20\n",
      "1000/1000 [==============================] - 6s 6ms/step - loss: 1.3573 - start_node_loss: 0.0971 - next_nodes_loss: 1.2603 - start_node_categorical_accuracy: 1.0000 - next_nodes_categorical_accuracy: 0.5858 - val_loss: 2.2332 - val_start_node_loss: 0.3338 - val_next_nodes_loss: 1.8994 - val_start_node_categorical_accuracy: 1.0000 - val_next_nodes_categorical_accuracy: 0.3563\n",
      "Epoch 10/20\n",
      "1000/1000 [==============================] - 7s 7ms/step - loss: 1.3173 - start_node_loss: 0.0855 - next_nodes_loss: 1.2317 - start_node_categorical_accuracy: 1.0000 - next_nodes_categorical_accuracy: 0.5984 - val_loss: 1.8765 - val_start_node_loss: 0.1843 - val_next_nodes_loss: 1.6922 - val_start_node_categorical_accuracy: 1.0000 - val_next_nodes_categorical_accuracy: 0.4503\n",
      "Epoch 11/20\n",
      "1000/1000 [==============================] - 7s 7ms/step - loss: 1.3130 - start_node_loss: 0.0906 - next_nodes_loss: 1.2224 - start_node_categorical_accuracy: 0.9990 - next_nodes_categorical_accuracy: 0.6059 - val_loss: 1.8985 - val_start_node_loss: 0.1719 - val_next_nodes_loss: 1.7267 - val_start_node_categorical_accuracy: 1.0000 - val_next_nodes_categorical_accuracy: 0.4320\n",
      "Epoch 12/20\n",
      "1000/1000 [==============================] - 7s 7ms/step - loss: 1.2755 - start_node_loss: 0.0806 - next_nodes_loss: 1.1949 - start_node_categorical_accuracy: 1.0000 - next_nodes_categorical_accuracy: 0.6212 - val_loss: 1.6825 - val_start_node_loss: 0.0926 - val_next_nodes_loss: 1.5900 - val_start_node_categorical_accuracy: 1.0000 - val_next_nodes_categorical_accuracy: 0.5149\n",
      "Epoch 13/20\n",
      "1000/1000 [==============================] - 6s 6ms/step - loss: 1.2992 - start_node_loss: 0.0847 - next_nodes_loss: 1.2145 - start_node_categorical_accuracy: 0.9990 - next_nodes_categorical_accuracy: 0.6139 - val_loss: 1.7820 - val_start_node_loss: 0.1069 - val_next_nodes_loss: 1.6752 - val_start_node_categorical_accuracy: 1.0000 - val_next_nodes_categorical_accuracy: 0.4665\n",
      "Epoch 14/20\n",
      "1000/1000 [==============================] - 7s 7ms/step - loss: 1.2052 - start_node_loss: 0.0553 - next_nodes_loss: 1.1499 - start_node_categorical_accuracy: 1.0000 - next_nodes_categorical_accuracy: 0.6412 - val_loss: 1.9231 - val_start_node_loss: 0.0759 - val_next_nodes_loss: 1.8472 - val_start_node_categorical_accuracy: 1.0000 - val_next_nodes_categorical_accuracy: 0.4315\n",
      "Epoch 15/20\n",
      "1000/1000 [==============================] - 7s 7ms/step - loss: 1.2159 - start_node_loss: 0.0637 - next_nodes_loss: 1.1522 - start_node_categorical_accuracy: 0.9980 - next_nodes_categorical_accuracy: 0.6457 - val_loss: 1.8116 - val_start_node_loss: 0.1357 - val_next_nodes_loss: 1.6759 - val_start_node_categorical_accuracy: 1.0000 - val_next_nodes_categorical_accuracy: 0.4623\n",
      "Epoch 16/20\n",
      "1000/1000 [==============================] - 7s 7ms/step - loss: 1.1883 - start_node_loss: 0.0642 - next_nodes_loss: 1.1242 - start_node_categorical_accuracy: 0.9970 - next_nodes_categorical_accuracy: 0.6554 - val_loss: 1.8779 - val_start_node_loss: 0.0518 - val_next_nodes_loss: 1.8260 - val_start_node_categorical_accuracy: 1.0000 - val_next_nodes_categorical_accuracy: 0.4362\n",
      "Epoch 17/20\n",
      "1000/1000 [==============================] - 7s 7ms/step - loss: 1.2142 - start_node_loss: 0.0636 - next_nodes_loss: 1.1506 - start_node_categorical_accuracy: 0.9990 - next_nodes_categorical_accuracy: 0.6453 - val_loss: 1.8997 - val_start_node_loss: 0.0928 - val_next_nodes_loss: 1.8069 - val_start_node_categorical_accuracy: 1.0000 - val_next_nodes_categorical_accuracy: 0.4504\n",
      "Epoch 18/20\n",
      "1000/1000 [==============================] - 7s 7ms/step - loss: 1.1251 - start_node_loss: 0.0408 - next_nodes_loss: 1.0843 - start_node_categorical_accuracy: 1.0000 - next_nodes_categorical_accuracy: 0.6758 - val_loss: 1.8568 - val_start_node_loss: 0.0452 - val_next_nodes_loss: 1.8117 - val_start_node_categorical_accuracy: 1.0000 - val_next_nodes_categorical_accuracy: 0.4544\n",
      "Epoch 19/20\n",
      "1000/1000 [==============================] - 7s 7ms/step - loss: 1.1390 - start_node_loss: 0.0602 - next_nodes_loss: 1.0788 - start_node_categorical_accuracy: 0.9950 - next_nodes_categorical_accuracy: 0.6797 - val_loss: 1.9236 - val_start_node_loss: 0.1519 - val_next_nodes_loss: 1.7718 - val_start_node_categorical_accuracy: 1.0000 - val_next_nodes_categorical_accuracy: 0.4868\n",
      "Epoch 20/20\n",
      "1000/1000 [==============================] - 7s 7ms/step - loss: 1.4490 - start_node_loss: 0.1976 - next_nodes_loss: 1.2514 - start_node_categorical_accuracy: 0.9730 - next_nodes_categorical_accuracy: 0.6168 - val_loss: 1.9092 - val_start_node_loss: 0.1571 - val_next_nodes_loss: 1.7521 - val_start_node_categorical_accuracy: 1.0000 - val_next_nodes_categorical_accuracy: 0.4503\n"
     ]
    }
   ],
   "source": [
    "config = {\n",
    "    \"message_passing_iterations\" : 10,\n",
    "    \"latent_dim\" : 16\n",
    "}\n",
    "\n",
    "NUM_EPOCHS = 20\n",
    "\n",
    "\n",
    "GNN = make_GNN(config)\n",
    "\n",
    "optimizer = tf.keras.optimizers.Adam(learning_rate = 1e-3)\n",
    "\n",
    "GNN.compile(loss={\"start_node\" : \"categorical_crossentropy\",\n",
    "                  \"next_nodes\" : \"categorical_crossentropy\"}, \n",
    "            optimizer=optimizer, \n",
    "            metrics={\"start_node\" : \"categorical_accuracy\",\n",
    "                     \"next_nodes\" : \"categorical_accuracy\"})\n",
    "\n",
    "#takes ~2min on GPU\n",
    "#note that this is unneccessarily long since we don't use batching\n",
    "#to keep the code simple\n",
    "history = GNN.fit(train_gen,\n",
    "                    validation_data=val_gen,\n",
    "                    epochs = NUM_EPOCHS,\n",
    "                    verbose = 1)"
   ]
  },
  {
   "cell_type": "code",
   "execution_count": 49,
   "id": "western-projection",
   "metadata": {},
   "outputs": [
    {
     "data": {
      "image/png": "[encoded data removed]",
      "text/plain": [
       "<Figure size 288x288 with 1 Axes>"
      ]
     },
     "metadata": {
      "needs_background": "light"
     },
     "output_type": "display_data"
    }
   ],
   "source": [
    "input_graph, _, sort_indices = make_example((20,30))\n",
    "fig = plt.figure(1, figsize=(4, 4))\n",
    "ax = fig.add_subplot()\n",
    "start_node_probs, next_node_probs = GNN(input_graph)\n",
    "plot_numbers(ax, next_node_probs.numpy(), sort_indices)"
   ]
  },
  {
   "cell_type": "markdown",
   "id": "handed-diary",
   "metadata": {},
   "source": [
    "### Decode a sorted list\n",
    "\n",
    "Start at the predicted start node. Greedily follow to the next unvisited node with highest probabilty."
   ]
  },
  {
   "cell_type": "code",
   "execution_count": 57,
   "id": "pharmaceutical-stupid",
   "metadata": {},
   "outputs": [
    {
     "name": "stdout",
     "output_type": "stream",
     "text": [
      "unsorted numbers: [0.77582657 0.0762433  0.36435593 0.9758827  0.25454118 0.31118793\n",
      " 0.64610911 0.2750251  0.74613055 0.51478395 0.84502217 0.28713276\n",
      " 0.72261328 0.30016552 0.88454247 0.70968779 0.13840706 0.09063094\n",
      " 0.9038374  0.60916656 0.16198563 0.61216323]\n",
      "sorted numbers: [0.0762433  0.09063094 0.13840706 0.16198563 0.25454118 0.2750251\n",
      " 0.28713276 0.30016552 0.31118793 0.36435593 0.51478395 0.60916656\n",
      " 0.61216323 0.64610911 0.70968779 0.72261328 0.74613055 0.77582657\n",
      " 0.84502217 0.88454247 0.9038374  0.9758827 ]\n"
     ]
    }
   ],
   "source": [
    "def decode_sorting(numbers, start_node_probs, next_node_probs):\n",
    "    print(\"unsorted numbers:\", numbers)\n",
    "    start = np.argmax(start_node_probs)\n",
    "    sort_indices = [start]\n",
    "    unvisited = np.ones(len(numbers))\n",
    "    unvisited[start] = 0\n",
    "    current_node = start\n",
    "    for i in range(len(numbers)-1):\n",
    "        probs = unvisited * next_node_probs[current_node]\n",
    "        current_node = np.argmax(probs)\n",
    "        unvisited[current_node] = 0\n",
    "        sort_indices.append(current_node)\n",
    "    print(\"sorted numbers:\", numbers[sort_indices])\n",
    "\n",
    "decode_sorting(input_graph[\"nodes\"], start_node_probs, next_node_probs)"
   ]
  },
  {
   "cell_type": "code",
   "execution_count": null,
   "id": "black-monaco",
   "metadata": {},
   "outputs": [],
   "source": []
  }
 ],
 "metadata": {
  "kernelspec": {
   "display_name": "Python 3",
   "language": "python",
   "name": "python3"
  },
  "language_info": {
   "codemirror_mode": {
    "name": "ipython",
    "version": 3
   },
   "file_extension": ".py",
   "mimetype": "text/x-python",
   "name": "python",
   "nbconvert_exporter": "python",
   "pygments_lexer": "ipython3",
   "version": "3.8.6"
  }
 },
 "nbformat": 4,
 "nbformat_minor": 5
}
